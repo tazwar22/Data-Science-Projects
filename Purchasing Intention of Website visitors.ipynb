{
 "cells": [
  {
   "cell_type": "markdown",
   "metadata": {
    "collapsed": true
   },
   "source": [
    "# <u> Analyzing Purchasing Intention of website visitors </u>"
   ]
  },
  {
   "cell_type": "markdown",
   "metadata": {},
   "source": [
    "## <u> Problem Statement </u>"
   ]
  },
  {
   "cell_type": "markdown",
   "metadata": {},
   "source": [
    "This notebook walks through the analysis of a very intriguing dataset from the **UCI Machine Learning Repository**  available due to the hard work of:\n",
    "\n",
    "\n",
    "Sakar, C.O., Polat, S.O., Katircioglu, M. et al. Neural Comput & Applic (2018). UCI Machine Learning Repository [http://archive.ics.uci.edu/ml]. Irvine, CA: University of California, School of Information and Computer Science.\n",
    "\n",
    "The data in question refers to over 12,000 browsing sessions for an e-commerce website, spread out over the course of **one year**. In each instance of the data, there are some neat features available (regarding web-page counts, exit rates, proximity to **\"special days\"** among many others). All the key features are analyzed below in the Exploratory Data Analysis section, in order to get a sense of how each feature impacts our main question: Will the customer end his/her browsing session with a transaction?\n",
    "\n",
    "The prime focus of the earlier sections is to carry out some Exploratory Data Analysis on the dataset. After that, a **Naive Bayes Classifier** is used in an attempt to classify customers into two categories as mentioned above.\n",
    "\n",
    "After inspecting a disappointing accuracy result, a finer subset of features are filtered out via **Principal Component Analysis** and used to **rebuild** the Bayesian classifier to obtain a much better result, followed by implementation of an **Artificial Neural Network**."
   ]
  },
  {
   "cell_type": "markdown",
   "metadata": {},
   "source": [
    "# <u>Contents:</u>"
   ]
  },
  {
   "cell_type": "markdown",
   "metadata": {},
   "source": [
    "## <a href=\"#sec 1\"> Section 1: Exploratory Data Analysis </a>\n",
    " <ol type=\"a\">\n",
    "  <li><a href=\"#1.1\">Understanding the problem</a></li>\n",
    "  <li><a href=\"#1.2\">Importing the data and the tools</a></li>\n",
    "  <li><a href=\"#1.3\">Page Class Analysis</a></li>\n",
    "  <li><a href=\"#1.4\">Monthly trends and \"Special days\"</a></li>\n",
    "  <li><a href=\"#1.5\">Regional Impact & Customer types</a></li>\n",
    "  <li><a href=\"#1.6\">Operating System? That's interesting...</a></li>\n",
    "  \n",
    "</ol>\n",
    "\n",
    "\n",
    "## <a href=\"#sec 2\"> Section 2: Data Preprocessing + Vanilla model</a>\n",
    " <ol type=\"a\">\n",
    "  <li><a href=\"#2.1\">Dealing with Categorical Features</a></li>\n",
    "  <li><a href=\"#2.2\">Preparing the Matrices</a></li>\n",
    "  <li><a href=\"#2.3\">Scaling/Standardization</a></li>\n",
    "  <li><a href=\"#2.4\">A very Naive classifier(pun intended) </a></li>\n",
    "</ol>\n",
    "\n",
    "\n",
    "## <a href=\"#sec 3\"> Section 3: Dimensionality Reduction and better models </a>\n",
    " <ol type=\"a\">\n",
    "  <li><a href=\"#3.1\">Principal Component Analysis</a></li>\n",
    "  <li><a href=\"#3.2\">Naive Bayes revisited</a></li>\n",
    "  <li><a href=\"#3.3\">Building an Artificial Neural Network</a></li> \n",
    "</ol>\n",
    "\n",
    "## <a href=\"#sec 4\"> Section 4: Conclusion </a>\n",
    " <ol type=\"a\">\n",
    "  <li><a href=\"#4.1\">Evaluating results</a></li>\n",
    "  <li><a href=\"#4.2\">Future improvements</a></li>\n",
    "  \n",
    "</ol>"
   ]
  },
  {
   "cell_type": "markdown",
   "metadata": {},
   "source": [
    "# <div id=\"sec 1\">Section 1: Exploratory Data Analysis</div>"
   ]
  },
  {
   "cell_type": "markdown",
   "metadata": {},
   "source": [
    "## <div id=\"1.1\">1.1: Understanding the problem</div>"
   ]
  },
  {
   "cell_type": "markdown",
   "metadata": {
    "collapsed": true
   },
   "source": [
    "As described above, the dataset contains information regarding the webpage browsing behaviour of customers, from **12,330** sessions. As mentioned in the abstract from the UCI page, we know that each observation is **unique** to a particular user session in order to avoid skewing data for one particular case.\n",
    "\n",
    "My goal in this project was to study some useful trends in the given features in order to get an idea for which features could be crucial in the classification of users before implementing two **Supervised Models** in order to see if we can predict whether a given user will end up purchasing something at the end of their browsing session or not.\n",
    "\n",
    "Let's get started on our analysis! "
   ]
  },
  {
   "cell_type": "markdown",
   "metadata": {},
   "source": [
    "## <div id=\"1.2\">1.2: Importing the data and the tools</div>"
   ]
  },
  {
   "cell_type": "markdown",
   "metadata": {},
   "source": [
    "We will make use of the standard Data analysis and numerical computation libraries to carry out this project."
   ]
  },
  {
   "cell_type": "code",
   "execution_count": 341,
   "metadata": {
    "collapsed": true
   },
   "outputs": [],
   "source": [
    "import numpy as np\n",
    "import matplotlib.pyplot as plt\n",
    "import pandas as pd\n",
    "import scipy.stats \n",
    "from numpy import nan\n",
    "\n",
    "import math\n",
    "import matplotlib.mlab as mlab\n",
    "\n",
    "import warnings\n",
    "warnings.filterwarnings('ignore')"
   ]
  },
  {
   "cell_type": "markdown",
   "metadata": {},
   "source": [
    "Let's go ahead and read in the information."
   ]
  },
  {
   "cell_type": "code",
   "execution_count": 342,
   "metadata": {
    "collapsed": true
   },
   "outputs": [],
   "source": [
    "df = pd.read_csv('online_shoppers_intention.csv')"
   ]
  },
  {
   "cell_type": "markdown",
   "metadata": {},
   "source": [
    "It's always nice to start off by getting a feel of the data in terms of it's dimensions and feature types. So let's perform some routine checks."
   ]
  },
  {
   "cell_type": "code",
   "execution_count": 343,
   "metadata": {
    "collapsed": false
   },
   "outputs": [
    {
     "data": {
      "text/plain": [
       "(12330, 18)"
      ]
     },
     "execution_count": 343,
     "metadata": {},
     "output_type": "execute_result"
    }
   ],
   "source": [
    "df.shape"
   ]
  },
  {
   "cell_type": "markdown",
   "metadata": {},
   "source": [
    "As mentioned in the source website, we know there are 12,330 sessions that we have data available for.\n",
    "So what does each user's information look like?"
   ]
  },
  {
   "cell_type": "code",
   "execution_count": 344,
   "metadata": {
    "collapsed": false
   },
   "outputs": [
    {
     "data": {
      "text/html": [
       "<div>\n",
       "<style scoped>\n",
       "    .dataframe tbody tr th:only-of-type {\n",
       "        vertical-align: middle;\n",
       "    }\n",
       "\n",
       "    .dataframe tbody tr th {\n",
       "        vertical-align: top;\n",
       "    }\n",
       "\n",
       "    .dataframe thead th {\n",
       "        text-align: right;\n",
       "    }\n",
       "</style>\n",
       "<table border=\"1\" class=\"dataframe\">\n",
       "  <thead>\n",
       "    <tr style=\"text-align: right;\">\n",
       "      <th></th>\n",
       "      <th>Administrative</th>\n",
       "      <th>Administrative_Duration</th>\n",
       "      <th>Informational</th>\n",
       "      <th>Informational_Duration</th>\n",
       "      <th>ProductRelated</th>\n",
       "      <th>ProductRelated_Duration</th>\n",
       "      <th>BounceRates</th>\n",
       "      <th>ExitRates</th>\n",
       "      <th>PageValues</th>\n",
       "      <th>SpecialDay</th>\n",
       "      <th>Month</th>\n",
       "      <th>OperatingSystems</th>\n",
       "      <th>Browser</th>\n",
       "      <th>Region</th>\n",
       "      <th>TrafficType</th>\n",
       "      <th>VisitorType</th>\n",
       "      <th>Weekend</th>\n",
       "      <th>Revenue</th>\n",
       "    </tr>\n",
       "  </thead>\n",
       "  <tbody>\n",
       "    <tr>\n",
       "      <th>0</th>\n",
       "      <td>0</td>\n",
       "      <td>0.0</td>\n",
       "      <td>0</td>\n",
       "      <td>0.0</td>\n",
       "      <td>1</td>\n",
       "      <td>0.000000</td>\n",
       "      <td>0.20</td>\n",
       "      <td>0.20</td>\n",
       "      <td>0.0</td>\n",
       "      <td>0.0</td>\n",
       "      <td>Feb</td>\n",
       "      <td>1</td>\n",
       "      <td>1</td>\n",
       "      <td>1</td>\n",
       "      <td>1</td>\n",
       "      <td>Returning_Visitor</td>\n",
       "      <td>False</td>\n",
       "      <td>False</td>\n",
       "    </tr>\n",
       "    <tr>\n",
       "      <th>1</th>\n",
       "      <td>0</td>\n",
       "      <td>0.0</td>\n",
       "      <td>0</td>\n",
       "      <td>0.0</td>\n",
       "      <td>2</td>\n",
       "      <td>64.000000</td>\n",
       "      <td>0.00</td>\n",
       "      <td>0.10</td>\n",
       "      <td>0.0</td>\n",
       "      <td>0.0</td>\n",
       "      <td>Feb</td>\n",
       "      <td>2</td>\n",
       "      <td>2</td>\n",
       "      <td>1</td>\n",
       "      <td>2</td>\n",
       "      <td>Returning_Visitor</td>\n",
       "      <td>False</td>\n",
       "      <td>False</td>\n",
       "    </tr>\n",
       "    <tr>\n",
       "      <th>2</th>\n",
       "      <td>0</td>\n",
       "      <td>0.0</td>\n",
       "      <td>0</td>\n",
       "      <td>0.0</td>\n",
       "      <td>1</td>\n",
       "      <td>0.000000</td>\n",
       "      <td>0.20</td>\n",
       "      <td>0.20</td>\n",
       "      <td>0.0</td>\n",
       "      <td>0.0</td>\n",
       "      <td>Feb</td>\n",
       "      <td>4</td>\n",
       "      <td>1</td>\n",
       "      <td>9</td>\n",
       "      <td>3</td>\n",
       "      <td>Returning_Visitor</td>\n",
       "      <td>False</td>\n",
       "      <td>False</td>\n",
       "    </tr>\n",
       "    <tr>\n",
       "      <th>3</th>\n",
       "      <td>0</td>\n",
       "      <td>0.0</td>\n",
       "      <td>0</td>\n",
       "      <td>0.0</td>\n",
       "      <td>2</td>\n",
       "      <td>2.666667</td>\n",
       "      <td>0.05</td>\n",
       "      <td>0.14</td>\n",
       "      <td>0.0</td>\n",
       "      <td>0.0</td>\n",
       "      <td>Feb</td>\n",
       "      <td>3</td>\n",
       "      <td>2</td>\n",
       "      <td>2</td>\n",
       "      <td>4</td>\n",
       "      <td>Returning_Visitor</td>\n",
       "      <td>False</td>\n",
       "      <td>False</td>\n",
       "    </tr>\n",
       "    <tr>\n",
       "      <th>4</th>\n",
       "      <td>0</td>\n",
       "      <td>0.0</td>\n",
       "      <td>0</td>\n",
       "      <td>0.0</td>\n",
       "      <td>10</td>\n",
       "      <td>627.500000</td>\n",
       "      <td>0.02</td>\n",
       "      <td>0.05</td>\n",
       "      <td>0.0</td>\n",
       "      <td>0.0</td>\n",
       "      <td>Feb</td>\n",
       "      <td>3</td>\n",
       "      <td>3</td>\n",
       "      <td>1</td>\n",
       "      <td>4</td>\n",
       "      <td>Returning_Visitor</td>\n",
       "      <td>True</td>\n",
       "      <td>False</td>\n",
       "    </tr>\n",
       "  </tbody>\n",
       "</table>\n",
       "</div>"
      ],
      "text/plain": [
       "   Administrative  Administrative_Duration  Informational  \\\n",
       "0               0                      0.0              0   \n",
       "1               0                      0.0              0   \n",
       "2               0                      0.0              0   \n",
       "3               0                      0.0              0   \n",
       "4               0                      0.0              0   \n",
       "\n",
       "   Informational_Duration  ProductRelated  ProductRelated_Duration  \\\n",
       "0                     0.0               1                 0.000000   \n",
       "1                     0.0               2                64.000000   \n",
       "2                     0.0               1                 0.000000   \n",
       "3                     0.0               2                 2.666667   \n",
       "4                     0.0              10               627.500000   \n",
       "\n",
       "   BounceRates  ExitRates  PageValues  SpecialDay Month  OperatingSystems  \\\n",
       "0         0.20       0.20         0.0         0.0   Feb                 1   \n",
       "1         0.00       0.10         0.0         0.0   Feb                 2   \n",
       "2         0.20       0.20         0.0         0.0   Feb                 4   \n",
       "3         0.05       0.14         0.0         0.0   Feb                 3   \n",
       "4         0.02       0.05         0.0         0.0   Feb                 3   \n",
       "\n",
       "   Browser  Region  TrafficType        VisitorType  Weekend  Revenue  \n",
       "0        1       1            1  Returning_Visitor    False    False  \n",
       "1        2       1            2  Returning_Visitor    False    False  \n",
       "2        1       9            3  Returning_Visitor    False    False  \n",
       "3        2       2            4  Returning_Visitor    False    False  \n",
       "4        3       1            4  Returning_Visitor     True    False  "
      ]
     },
     "execution_count": 344,
     "metadata": {},
     "output_type": "execute_result"
    }
   ],
   "source": [
    "df.head()"
   ]
  },
  {
   "cell_type": "markdown",
   "metadata": {},
   "source": [
    "There's **17 features** available for each observation, since the last column(**Revenue**) is what we're trying to predict.\n",
    "\n",
    "Let's check out all of our available features and quickly familiarize ourselves with their interpretations. But first, let's check if we have any missing data.\n",
    "<div id=\"to_1.2\"></div>"
   ]
  },
  {
   "cell_type": "code",
   "execution_count": 345,
   "metadata": {
    "collapsed": false
   },
   "outputs": [
    {
     "data": {
      "text/plain": [
       "False"
      ]
     },
     "execution_count": 345,
     "metadata": {},
     "output_type": "execute_result"
    }
   ],
   "source": [
    "df.isnull().any().any()"
   ]
  },
  {
   "cell_type": "markdown",
   "metadata": {},
   "source": [
    "Phew! That will save us a hefty amount of work in the sense that we won't have to worry about imputing missing information over the remainder of this analysis."
   ]
  },
  {
   "cell_type": "code",
   "execution_count": 346,
   "metadata": {
    "collapsed": false
   },
   "outputs": [
    {
     "data": {
      "text/plain": [
       "Index(['Administrative', 'Administrative_Duration', 'Informational',\n",
       "       'Informational_Duration', 'ProductRelated', 'ProductRelated_Duration',\n",
       "       'BounceRates', 'ExitRates', 'PageValues', 'SpecialDay', 'Month',\n",
       "       'OperatingSystems', 'Browser', 'Region', 'TrafficType', 'VisitorType',\n",
       "       'Weekend', 'Revenue'],\n",
       "      dtype='object')"
      ]
     },
     "execution_count": 346,
     "metadata": {},
     "output_type": "execute_result"
    }
   ],
   "source": [
    "df.columns"
   ]
  },
  {
   "cell_type": "markdown",
   "metadata": {},
   "source": [
    "So, essentially we are looking at some very interesting variables:\n",
    "<ul style=\"list-style-type:disc;\">\n",
    "  <li> <i>Administrative, Informational, ProductRelated</i> - refer to the **number of webpages** of the **respective** type that the user visited in a given session</li>\n",
    "  \n",
    " \n",
    "  <li>On that note- <i>'Administrative_Duration', 'Informational_Duration' and 'ProductRelated_Duration'</i> refer to the **time spent** on such pages </li>\n",
    "  \n",
    "  <li><i>ExitRates, PageValues and BounceRates</i> refer to some standard metrics obtained via **Google Analytics** for each webpage in the e-commerce site</li>\n",
    "  \n",
    "    <li> <i>Month</i> is quite self-explanatory(it refers to month of the observed browsing session), whereas <i>**Special Day**</i> is quite a neat spec. According to the source, it refers to a proximity factor describing **how close** a given observation was to a special day of some sort(eg.Mother's Day, Valentine's Day)</li>\n",
    "    \n",
    "      <li>Some other intriguing factors are <i>'OperatingSystems', 'Region' and 'VisitorType'</i>. </li>\n",
    "</ul>"
   ]
  },
  {
   "cell_type": "markdown",
   "metadata": {},
   "source": [
    "In the **Exploratory Data Analysis** section, we will take a look at how each of the features mentioned above relate with our Dependent variable(**Revenue**) which has a binary outcome: **True/False**.\n",
    "\n",
    "**True** means that the given observation involed a customer purchasing something at the end of the session, whereas **False** means the opposite.\n",
    "\n"
   ]
  },
  {
   "cell_type": "code",
   "execution_count": 347,
   "metadata": {
    "collapsed": false
   },
   "outputs": [
    {
     "data": {
      "text/plain": [
       "Revenue\n",
       "False    10422\n",
       "True      1908\n",
       "Name: VisitorType, dtype: int64"
      ]
     },
     "execution_count": 347,
     "metadata": {},
     "output_type": "execute_result"
    }
   ],
   "source": [
    "df.groupby('Revenue')['VisitorType'].count()"
   ]
  },
  {
   "cell_type": "markdown",
   "metadata": {},
   "source": [
    "As we can see, 10,422 visitors left without actually completing a transaction. On the other hand, 1908 instances of successful purchases were recorded. Let's dive into the features then."
   ]
  },
  {
   "cell_type": "markdown",
   "metadata": {},
   "source": [
    "## <div id=\"1.3\">1.3: Page Class Analysis</div>"
   ]
  },
  {
   "cell_type": "markdown",
   "metadata": {},
   "source": [
    "As we can guess, the time spent on a particular type of page will undoubtedly have a good impact on the outcome variable. If we take a moment to think about it, it is highly(to put it lightly) likely that customers who spent time on **Product-related** pages ended up purchasing something. The same thing cannot be necessarily said directly for the other two types of pages. \n",
    "\n",
    "Then again, without jumping to drastic unjustified conclusions, let's simply check out the variation in the **total number of pages** for each class over the course of the year for which we have data, with respect to the outcome variable."
   ]
  },
  {
   "cell_type": "markdown",
   "metadata": {},
   "source": [
    "Using some basic pandas, let's obtain the necessary information from our DataFrame."
   ]
  },
  {
   "cell_type": "code",
   "execution_count": 348,
   "metadata": {
    "collapsed": false
   },
   "outputs": [
    {
     "data": {
      "text/html": [
       "<div>\n",
       "<style scoped>\n",
       "    .dataframe tbody tr th:only-of-type {\n",
       "        vertical-align: middle;\n",
       "    }\n",
       "\n",
       "    .dataframe tbody tr th {\n",
       "        vertical-align: top;\n",
       "    }\n",
       "\n",
       "    .dataframe thead th {\n",
       "        text-align: right;\n",
       "    }\n",
       "</style>\n",
       "<table border=\"1\" class=\"dataframe\">\n",
       "  <thead>\n",
       "    <tr style=\"text-align: right;\">\n",
       "      <th></th>\n",
       "      <th>Administrative</th>\n",
       "      <th>Informational</th>\n",
       "      <th>ProductRelated</th>\n",
       "    </tr>\n",
       "    <tr>\n",
       "      <th>Revenue</th>\n",
       "      <th></th>\n",
       "      <th></th>\n",
       "      <th></th>\n",
       "    </tr>\n",
       "  </thead>\n",
       "  <tbody>\n",
       "    <tr>\n",
       "      <th>False</th>\n",
       "      <td>22071</td>\n",
       "      <td>4709</td>\n",
       "      <td>299264</td>\n",
       "    </tr>\n",
       "    <tr>\n",
       "      <th>True</th>\n",
       "      <td>6475</td>\n",
       "      <td>1500</td>\n",
       "      <td>91985</td>\n",
       "    </tr>\n",
       "  </tbody>\n",
       "</table>\n",
       "</div>"
      ],
      "text/plain": [
       "         Administrative  Informational  ProductRelated\n",
       "Revenue                                               \n",
       "False             22071           4709          299264\n",
       "True               6475           1500           91985"
      ]
     },
     "execution_count": 348,
     "metadata": {},
     "output_type": "execute_result"
    }
   ],
   "source": [
    "d_1 =  df.groupby('Revenue')[['Administrative', 'Informational',\n",
    "                    'ProductRelated']].sum().reset_index()\n",
    "d_1.set_index('Revenue',inplace=True)\n",
    "d_1"
   ]
  },
  {
   "cell_type": "markdown",
   "metadata": {},
   "source": [
    "It would also be handy to obtain the **Transpose** of this subset, for visualization purposes."
   ]
  },
  {
   "cell_type": "code",
   "execution_count": 349,
   "metadata": {
    "collapsed": false
   },
   "outputs": [
    {
     "data": {
      "text/html": [
       "<div>\n",
       "<style scoped>\n",
       "    .dataframe tbody tr th:only-of-type {\n",
       "        vertical-align: middle;\n",
       "    }\n",
       "\n",
       "    .dataframe tbody tr th {\n",
       "        vertical-align: top;\n",
       "    }\n",
       "\n",
       "    .dataframe thead th {\n",
       "        text-align: right;\n",
       "    }\n",
       "</style>\n",
       "<table border=\"1\" class=\"dataframe\">\n",
       "  <thead>\n",
       "    <tr style=\"text-align: right;\">\n",
       "      <th></th>\n",
       "      <th>No_Purchase</th>\n",
       "      <th>Purchase</th>\n",
       "    </tr>\n",
       "  </thead>\n",
       "  <tbody>\n",
       "    <tr>\n",
       "      <th>Administrative</th>\n",
       "      <td>22071</td>\n",
       "      <td>6475</td>\n",
       "    </tr>\n",
       "    <tr>\n",
       "      <th>Informational</th>\n",
       "      <td>4709</td>\n",
       "      <td>1500</td>\n",
       "    </tr>\n",
       "    <tr>\n",
       "      <th>ProductRelated</th>\n",
       "      <td>299264</td>\n",
       "      <td>91985</td>\n",
       "    </tr>\n",
       "  </tbody>\n",
       "</table>\n",
       "</div>"
      ],
      "text/plain": [
       "                No_Purchase  Purchase\n",
       "Administrative        22071      6475\n",
       "Informational          4709      1500\n",
       "ProductRelated       299264     91985"
      ]
     },
     "execution_count": 349,
     "metadata": {},
     "output_type": "execute_result"
    }
   ],
   "source": [
    "d_2 =pd.DataFrame(d_1.values.T,columns=['False','True'])\n",
    "d_2.rename(index={0: 'Administrative', 1: 'Informational', 2: 'ProductRelated'},inplace=True)\n",
    "d_2.rename(columns={'False': 'No_Purchase', \n",
    "                    'True': 'Purchase'},inplace=True)\n",
    "d_2"
   ]
  },
  {
   "cell_type": "markdown",
   "metadata": {},
   "source": [
    "Utilizing **pandas** once more (as we will, throughout this entire notebook), let's take a look at our data."
   ]
  },
  {
   "cell_type": "code",
   "execution_count": 350,
   "metadata": {
    "collapsed": false
   },
   "outputs": [
    {
     "data": {
      "image/png": "[encoded data removed]",
      "text/plain": [
       "<Figure size 720x288 with 2 Axes>"
      ]
     },
     "metadata": {},
     "output_type": "display_data"
    }
   ],
   "source": [
    "fig,(ax1,ax2) = plt.subplots(ncols=2,figsize=(10,4))\n",
    "ax1.set_title('Page counts for buyers')\n",
    "ax2.set_title('Page counts for non-responsive customers')\n",
    "d_2.Purchase.plot.bar(ax=ax1)\n",
    "d_2.No_Purchase.plot.bar(ax=ax2)\n",
    "plt.show()"
   ]
  },
  {
   "cell_type": "markdown",
   "metadata": {},
   "source": [
    "There is some overlap as expected in the behaviour with respect to each page class(people clearly spent significantly more time on interesting product pages), however there is a huge difference in the total page views between the two outcome classes.\n",
    "\n",
    "Almost **300,000** visits to product pages resulted in yet no transaction by the end of the browsing session. In comparison to the **91,985** pages that yielded successful outcomes, this highlights a possible point of concern.\n",
    "\n",
    "Other factors being held constant, perhaps the pages were not successful in engaging the visitors to the extent that they felt compelled to buy an item? Then again, we cannot ignore the fact that this high count could be due to **casual window-shoppers** who had litle to no intention of buying anything in the first place and ended up surfing through several pages without really any end-goal. Once again, a key thing to remember is that our data is heavily weighed down by the **negative outcome class**.\n",
    "\n",
    "With that in mind, let's check out some pie charts which summarize the outcome feature for each page type:"
   ]
  },
  {
   "cell_type": "code",
   "execution_count": 351,
   "metadata": {
    "collapsed": false
   },
   "outputs": [
    {
     "data": {
      "image/png": "[encoded data removed]",
      "text/plain": [
       "<Figure size 1080x360 with 3 Axes>"
      ]
     },
     "metadata": {},
     "output_type": "display_data"
    }
   ],
   "source": [
    "fig,(ax1,ax2,ax3) = plt.subplots(ncols=3,figsize=(15,5))\n",
    "\n",
    "d_1.plot.pie(y='Administrative',autopct='%.1f%%',ax=ax1)\n",
    "d_1.plot.pie(y='Informational',autopct='%.1f%%',ax=ax2)\n",
    "d_1.plot.pie(y='ProductRelated',autopct='%.1f%%',ax=ax3)\n",
    "\n",
    "plt.show()"
   ]
  },
  {
   "cell_type": "markdown",
   "metadata": {},
   "source": [
    "Interestingly enough, there is a fair amount of symmetry in the distributions.\n",
    "\n",
    "Now, let's take a look at the **Time Spent** on each different page type."
   ]
  },
  {
   "cell_type": "code",
   "execution_count": 352,
   "metadata": {
    "collapsed": false
   },
   "outputs": [
    {
     "data": {
      "text/html": [
       "<div>\n",
       "<style scoped>\n",
       "    .dataframe tbody tr th:only-of-type {\n",
       "        vertical-align: middle;\n",
       "    }\n",
       "\n",
       "    .dataframe tbody tr th {\n",
       "        vertical-align: top;\n",
       "    }\n",
       "\n",
       "    .dataframe thead th {\n",
       "        text-align: right;\n",
       "    }\n",
       "</style>\n",
       "<table border=\"1\" class=\"dataframe\">\n",
       "  <thead>\n",
       "    <tr style=\"text-align: right;\">\n",
       "      <th></th>\n",
       "      <th>Administrative_Duration</th>\n",
       "      <th>Informational_Duration</th>\n",
       "      <th>ProductRelated_Duration</th>\n",
       "    </tr>\n",
       "  </thead>\n",
       "  <tbody>\n",
       "    <tr>\n",
       "      <th>count</th>\n",
       "      <td>12330.000000</td>\n",
       "      <td>12330.000000</td>\n",
       "      <td>12330.000000</td>\n",
       "    </tr>\n",
       "    <tr>\n",
       "      <th>mean</th>\n",
       "      <td>80.818611</td>\n",
       "      <td>34.472398</td>\n",
       "      <td>1194.746220</td>\n",
       "    </tr>\n",
       "    <tr>\n",
       "      <th>std</th>\n",
       "      <td>176.779107</td>\n",
       "      <td>140.749294</td>\n",
       "      <td>1913.669288</td>\n",
       "    </tr>\n",
       "    <tr>\n",
       "      <th>min</th>\n",
       "      <td>0.000000</td>\n",
       "      <td>0.000000</td>\n",
       "      <td>0.000000</td>\n",
       "    </tr>\n",
       "    <tr>\n",
       "      <th>25%</th>\n",
       "      <td>0.000000</td>\n",
       "      <td>0.000000</td>\n",
       "      <td>184.137500</td>\n",
       "    </tr>\n",
       "    <tr>\n",
       "      <th>50%</th>\n",
       "      <td>7.500000</td>\n",
       "      <td>0.000000</td>\n",
       "      <td>598.936905</td>\n",
       "    </tr>\n",
       "    <tr>\n",
       "      <th>75%</th>\n",
       "      <td>93.256250</td>\n",
       "      <td>0.000000</td>\n",
       "      <td>1464.157213</td>\n",
       "    </tr>\n",
       "    <tr>\n",
       "      <th>max</th>\n",
       "      <td>3398.750000</td>\n",
       "      <td>2549.375000</td>\n",
       "      <td>63973.522230</td>\n",
       "    </tr>\n",
       "  </tbody>\n",
       "</table>\n",
       "</div>"
      ],
      "text/plain": [
       "       Administrative_Duration  Informational_Duration  \\\n",
       "count             12330.000000            12330.000000   \n",
       "mean                 80.818611               34.472398   \n",
       "std                 176.779107              140.749294   \n",
       "min                   0.000000                0.000000   \n",
       "25%                   0.000000                0.000000   \n",
       "50%                   7.500000                0.000000   \n",
       "75%                  93.256250                0.000000   \n",
       "max                3398.750000             2549.375000   \n",
       "\n",
       "       ProductRelated_Duration  \n",
       "count             12330.000000  \n",
       "mean               1194.746220  \n",
       "std                1913.669288  \n",
       "min                   0.000000  \n",
       "25%                 184.137500  \n",
       "50%                 598.936905  \n",
       "75%                1464.157213  \n",
       "max               63973.522230  "
      ]
     },
     "execution_count": 352,
     "metadata": {},
     "output_type": "execute_result"
    }
   ],
   "source": [
    "df[['Administrative_Duration','Informational_Duration',\n",
    "                     'ProductRelated_Duration']].describe()"
   ]
  },
  {
   "cell_type": "markdown",
   "metadata": {},
   "source": [
    "Let's break this down:(Note that all the values are measured in seconds)\n",
    "\n",
    "As we can see, the amount of time spent on **Product pages** is staggeringly higher than that for the other two classes. The median time spent on such pages is almost **80 times** higher than that for Administrative pages. Understandable, as we hardly enjoy staring at the Terms of Services or other such formal information when we're looking at an online catalogue.\n",
    "\n",
    "Obviously, there are instances where a user possibly **bounced**(left the site without triggering any further requests to the server) and other such cases, resulting in the **minimum** value of 0 for all three classes. There are clearly some high values for the maximum time spent. Maybe some customers were **really engaged** in the content on display, or others simply left their browser running and went off elsewhere. \n",
    "\n",
    "But one thing we can notice quite clearly is the fact that the time spent on **Product Related** pages is much more significant. So let's focus more on the numbers there."
   ]
  },
  {
   "cell_type": "markdown",
   "metadata": {},
   "source": [
    "Let's visualize the time spent on each page type over the course of the year."
   ]
  },
  {
   "cell_type": "code",
   "execution_count": 353,
   "metadata": {
    "collapsed": true
   },
   "outputs": [],
   "source": [
    "time_df= df.groupby('Revenue')[['Administrative_Duration','Informational_Duration',\n",
    "                     'ProductRelated_Duration']].sum()\n",
    "\n",
    "time_df = time_df//3600   # To get time-spent in hours"
   ]
  },
  {
   "cell_type": "code",
   "execution_count": 354,
   "metadata": {
    "collapsed": false
   },
   "outputs": [
    {
     "data": {
      "image/png": "[encoded data removed]",
      "text/plain": [
       "<Figure size 432x288 with 1 Axes>"
      ]
     },
     "metadata": {},
     "output_type": "display_data"
    }
   ],
   "source": [
    "time_df.plot.bar()\n",
    "plt.xlabel('Session concluded with a Transaction?')\n",
    "plt.ylabel('Time spent on page (Hours)')\n",
    "plt.title('Time spent on page vs. Outcome')\n",
    "plt.show()"
   ]
  },
  {
   "cell_type": "markdown",
   "metadata": {},
   "source": [
    "If we try analyzing the **Boxplots** for the <i>**Time spent on page**</i> feature, we will end up with a pretty disturbing image."
   ]
  },
  {
   "cell_type": "code",
   "execution_count": 355,
   "metadata": {
    "collapsed": false
   },
   "outputs": [
    {
     "data": {
      "image/png": "[encoded data removed]",
      "text/plain": [
       "<Figure size 1080x360 with 1 Axes>"
      ]
     },
     "metadata": {},
     "output_type": "display_data"
    }
   ],
   "source": [
    "df.boxplot(column=['Administrative_Duration','Informational_Duration',\n",
    "                     'ProductRelated_Duration'],figsize=(15,5))\n",
    "plt.xlabel('Page Type')\n",
    "plt.ylabel('Total Time spent on page (SECONDS)')\n",
    "plt.title('Time spent on page vs. Page type')\n",
    "plt.show()"
   ]
  },
  {
   "cell_type": "markdown",
   "metadata": {},
   "source": [
    "Recalling the basic interpretation of those **nasty dots** on a Boxplot that we can see, we may be freaking out at the absurd amount of outliers present for the **Product Related page duration**.\n",
    "\n",
    "To get a better idea of the true story that our data is trying to tell us, let's rather focus our efforts to visualize the distribution on the **80th percentile** of the data (with respect to the **ProductRelated_Duration** feature). In doing so, we will be looking at a finer subset of the data, without all the outliers."
   ]
  },
  {
   "cell_type": "code",
   "execution_count": 356,
   "metadata": {
    "collapsed": false
   },
   "outputs": [],
   "source": [
    "df_sub = df[df['ProductRelated_Duration'] <np.percentile(df.ProductRelated_Duration,80)]\n",
    "df_sub['ProductRelated_Duration'] = df_sub[['ProductRelated_Duration']]/60   #MINUTES"
   ]
  },
  {
   "cell_type": "markdown",
   "metadata": {},
   "source": [
    "Note that we are considering the **time spent in minutes** in this scenario."
   ]
  },
  {
   "cell_type": "code",
   "execution_count": 357,
   "metadata": {
    "collapsed": false
   },
   "outputs": [
    {
     "data": {
      "image/png": "[encoded data removed]",
      "text/plain": [
       "<Figure size 576x288 with 1 Axes>"
      ]
     },
     "metadata": {},
     "output_type": "display_data"
    }
   ],
   "source": [
    "df_sub.boxplot(column='ProductRelated_Duration',figsize=(8,4),vert=False)\n",
    "plt.xlabel('Total time (Minutes)')\n",
    "plt.title('Total time spent on Product Related pages')\n",
    "plt.show()"
   ]
  },
  {
   "cell_type": "markdown",
   "metadata": {},
   "source": [
    "Thus over the course of the year, the average time(**median**) spent on pages with information about services/commodities came out to be around **7 minutes**, whereas (considering only the 80th percentile of course) the maximum amount of time spent was close to **half an hour**.\n",
    "\n",
    "Most sessions involved anywhere between **3 minutes and 14 minutes** on Product related pages.\n",
    "\n",
    "Perhaps some customers had a very particular object in mind when they visited the website and wasted little time in completing their transactions, but others probably took their time before coming to a decision about whether to buy something or not. In any case, there were plenty of non-responsive visitors to the website as well, over the course of the year, but as we can see from our **Bar plot** up there, they do account for a big chunk of the time spent on Product-associated pages."
   ]
  },
  {
   "cell_type": "markdown",
   "metadata": {},
   "source": [
    "Let's move onto a different set of features(not related to page types):\n",
    "changes in behaviour with respect to **time**.\n",
    "\n",
    "Sounds interesting? Let's dive right in."
   ]
  },
  {
   "cell_type": "markdown",
   "metadata": {},
   "source": [
    "## <div id=\"1.4\">1.4: Monthly trends and \"Special days\"</div>"
   ]
  },
  {
   "cell_type": "markdown",
   "metadata": {},
   "source": [
    "### Monthly data visualizations"
   ]
  },
  {
   "cell_type": "markdown",
   "metadata": {},
   "source": [
    "Our dataset contains records over the course of a one year period. One interesting question jumps to mind: which month contains the highest number of successful browsing sessions(ie. ending with a purchase of some sort)?"
   ]
  },
  {
   "cell_type": "code",
   "execution_count": 358,
   "metadata": {
    "collapsed": true
   },
   "outputs": [],
   "source": [
    "df_monthly_transacs = df.groupby(['Month','Revenue'])['Administrative'].count().reset_index()\n",
    "df_monthly_transacs=df_monthly_transacs[df_monthly_transacs['Revenue']==True]\n",
    "df_monthly_transacs.set_index('Month',inplace=True)\n",
    "df_monthly_transacs.rename(columns={'Administrative':'Count'},inplace=True)"
   ]
  },
  {
   "cell_type": "code",
   "execution_count": 359,
   "metadata": {
    "collapsed": false
   },
   "outputs": [
    {
     "data": {
      "text/html": [
       "<div>\n",
       "<style scoped>\n",
       "    .dataframe tbody tr th:only-of-type {\n",
       "        vertical-align: middle;\n",
       "    }\n",
       "\n",
       "    .dataframe tbody tr th {\n",
       "        vertical-align: top;\n",
       "    }\n",
       "\n",
       "    .dataframe thead th {\n",
       "        text-align: right;\n",
       "    }\n",
       "</style>\n",
       "<table border=\"1\" class=\"dataframe\">\n",
       "  <thead>\n",
       "    <tr style=\"text-align: right;\">\n",
       "      <th></th>\n",
       "      <th>Revenue</th>\n",
       "      <th>Count</th>\n",
       "    </tr>\n",
       "    <tr>\n",
       "      <th>Month</th>\n",
       "      <th></th>\n",
       "      <th></th>\n",
       "    </tr>\n",
       "  </thead>\n",
       "  <tbody>\n",
       "    <tr>\n",
       "      <th>Aug</th>\n",
       "      <td>True</td>\n",
       "      <td>76</td>\n",
       "    </tr>\n",
       "    <tr>\n",
       "      <th>Dec</th>\n",
       "      <td>True</td>\n",
       "      <td>216</td>\n",
       "    </tr>\n",
       "    <tr>\n",
       "      <th>Feb</th>\n",
       "      <td>True</td>\n",
       "      <td>3</td>\n",
       "    </tr>\n",
       "    <tr>\n",
       "      <th>Jul</th>\n",
       "      <td>True</td>\n",
       "      <td>66</td>\n",
       "    </tr>\n",
       "    <tr>\n",
       "      <th>June</th>\n",
       "      <td>True</td>\n",
       "      <td>29</td>\n",
       "    </tr>\n",
       "    <tr>\n",
       "      <th>Mar</th>\n",
       "      <td>True</td>\n",
       "      <td>192</td>\n",
       "    </tr>\n",
       "    <tr>\n",
       "      <th>May</th>\n",
       "      <td>True</td>\n",
       "      <td>365</td>\n",
       "    </tr>\n",
       "    <tr>\n",
       "      <th>Nov</th>\n",
       "      <td>True</td>\n",
       "      <td>760</td>\n",
       "    </tr>\n",
       "    <tr>\n",
       "      <th>Oct</th>\n",
       "      <td>True</td>\n",
       "      <td>115</td>\n",
       "    </tr>\n",
       "    <tr>\n",
       "      <th>Sep</th>\n",
       "      <td>True</td>\n",
       "      <td>86</td>\n",
       "    </tr>\n",
       "  </tbody>\n",
       "</table>\n",
       "</div>"
      ],
      "text/plain": [
       "       Revenue  Count\n",
       "Month                \n",
       "Aug       True     76\n",
       "Dec       True    216\n",
       "Feb       True      3\n",
       "Jul       True     66\n",
       "June      True     29\n",
       "Mar       True    192\n",
       "May       True    365\n",
       "Nov       True    760\n",
       "Oct       True    115\n",
       "Sep       True     86"
      ]
     },
     "execution_count": 359,
     "metadata": {},
     "output_type": "execute_result"
    }
   ],
   "source": [
    "df_monthly_transacs"
   ]
  },
  {
   "cell_type": "markdown",
   "metadata": {},
   "source": [
    "Let's make a quick barplot to see what actually happened."
   ]
  },
  {
   "cell_type": "code",
   "execution_count": 360,
   "metadata": {
    "collapsed": false
   },
   "outputs": [
    {
     "data": {
      "image/png": "[encoded data removed]",
      "text/plain": [
       "<Figure size 864x288 with 1 Axes>"
      ]
     },
     "metadata": {},
     "output_type": "display_data"
    }
   ],
   "source": [
    "df_monthly_transacs.Count.plot.bar(figsize=(12,4))\n",
    "plt.xlabel('Month')\n",
    "plt.ylabel('# Successful transactions')\n",
    "plt.title('Monthly distribution of fruitful website visits')\n",
    "plt.show()"
   ]
  },
  {
   "cell_type": "markdown",
   "metadata": {},
   "source": [
    "One odd feature is that we don't see any data for **January or April**."
   ]
  },
  {
   "cell_type": "markdown",
   "metadata": {},
   "source": [
    "But there's still a lot going on there. But the obvious winner there is **November**. With a staggering **700+** successful website visits, it comes out ahead of **May and December**. Perhaps, next year the website could utilize this further by advertising plenty of products and services close to the month of November? \n",
    "\n",
    "In any case, it seems rather odd that **February** only boasts three successful website visits, given that it contains **Valentine's Day** and one might expect that several transactions could have been made by people buying gifts during that period. Perhaps the company can come back stronger next time and offer more intriguing products during that time period in order to improve on their figures during that month (note:June, August and September are also rather weak in numbers)."
   ]
  },
  {
   "cell_type": "markdown",
   "metadata": {},
   "source": [
    "Again, it might be handy to to take a look at the variation in **time spent(in hours) on Product pages** over the months."
   ]
  },
  {
   "cell_type": "code",
   "execution_count": 361,
   "metadata": {
    "collapsed": false
   },
   "outputs": [
    {
     "data": {
      "text/html": [
       "<div>\n",
       "<style scoped>\n",
       "    .dataframe tbody tr th:only-of-type {\n",
       "        vertical-align: middle;\n",
       "    }\n",
       "\n",
       "    .dataframe tbody tr th {\n",
       "        vertical-align: top;\n",
       "    }\n",
       "\n",
       "    .dataframe thead th {\n",
       "        text-align: right;\n",
       "    }\n",
       "</style>\n",
       "<table border=\"1\" class=\"dataframe\">\n",
       "  <thead>\n",
       "    <tr style=\"text-align: right;\">\n",
       "      <th></th>\n",
       "      <th>ProductRelated_Duration</th>\n",
       "    </tr>\n",
       "    <tr>\n",
       "      <th>Month</th>\n",
       "      <th></th>\n",
       "    </tr>\n",
       "  </thead>\n",
       "  <tbody>\n",
       "    <tr>\n",
       "      <th>Aug</th>\n",
       "      <td>27.0</td>\n",
       "    </tr>\n",
       "    <tr>\n",
       "      <th>Dec</th>\n",
       "      <td>81.0</td>\n",
       "    </tr>\n",
       "    <tr>\n",
       "      <th>Feb</th>\n",
       "      <td>0.0</td>\n",
       "    </tr>\n",
       "    <tr>\n",
       "      <th>Jul</th>\n",
       "      <td>24.0</td>\n",
       "    </tr>\n",
       "    <tr>\n",
       "      <th>June</th>\n",
       "      <td>9.0</td>\n",
       "    </tr>\n",
       "    <tr>\n",
       "      <th>Mar</th>\n",
       "      <td>79.0</td>\n",
       "    </tr>\n",
       "    <tr>\n",
       "      <th>May</th>\n",
       "      <td>129.0</td>\n",
       "    </tr>\n",
       "    <tr>\n",
       "      <th>Nov</th>\n",
       "      <td>581.0</td>\n",
       "    </tr>\n",
       "    <tr>\n",
       "      <th>Oct</th>\n",
       "      <td>37.0</td>\n",
       "    </tr>\n",
       "    <tr>\n",
       "      <th>Sep</th>\n",
       "      <td>21.0</td>\n",
       "    </tr>\n",
       "  </tbody>\n",
       "</table>\n",
       "</div>"
      ],
      "text/plain": [
       "       ProductRelated_Duration\n",
       "Month                         \n",
       "Aug                       27.0\n",
       "Dec                       81.0\n",
       "Feb                        0.0\n",
       "Jul                       24.0\n",
       "June                       9.0\n",
       "Mar                       79.0\n",
       "May                      129.0\n",
       "Nov                      581.0\n",
       "Oct                       37.0\n",
       "Sep                       21.0"
      ]
     },
     "execution_count": 361,
     "metadata": {},
     "output_type": "execute_result"
    }
   ],
   "source": [
    "monthly_dur =df.groupby(['Month','Revenue'])[['ProductRelated_Duration']].sum().reset_index()\n",
    "monthly_dur = monthly_dur[monthly_dur['Revenue']==True]    #Only successful visits\n",
    "monthly_dur['ProductRelated_Duration']=monthly_dur[['ProductRelated_Duration']]//3600   #Time in hours\n",
    "monthly_dur.drop('Revenue',axis=1,inplace=True)\n",
    "monthly_dur.set_index('Month',inplace=True)\n",
    "monthly_dur"
   ]
  },
  {
   "cell_type": "markdown",
   "metadata": {},
   "source": [
    "Let's visualize this data."
   ]
  },
  {
   "cell_type": "code",
   "execution_count": 362,
   "metadata": {
    "collapsed": false
   },
   "outputs": [
    {
     "data": {
      "image/png": "[encoded data removed]",
      "text/plain": [
       "<Figure size 864x288 with 1 Axes>"
      ]
     },
     "metadata": {},
     "output_type": "display_data"
    }
   ],
   "source": [
    "monthly_dur.plot.bar(figsize=(12,4))\n",
    "plt.xlabel('Month')\n",
    "plt.ylabel('Time spent(Hours)')\n",
    "plt.title('Monthly distribution of time spent on Product-Related pages')\n",
    "plt.show()"
   ]
  },
  {
   "cell_type": "markdown",
   "metadata": {},
   "source": [
    "It's worth noting that the data is once again dominated by records from November. In any case, a total of **581 hours** were spent browsing products over the course of the month, but February had no time spent at all. This falls in line with our very low value of successful transactions from the monthly distribution Bar plot. However, once again, this seems to be a rather concerning point. Either the data itself is rather distorted or the company simply had a terrible performance during that month."
   ]
  },
  {
   "cell_type": "markdown",
   "metadata": {},
   "source": [
    "### The \"Special Day\" factor"
   ]
  },
  {
   "cell_type": "markdown",
   "metadata": {},
   "source": [
    "This feature indicates how close a given browsing observation is to a day like Mother's Day, Father's Day,etc. As we can guess, people usually tend to browse for gifts for their friends and family members during such occasions. As stated in the **UCI Data secription**, the special-day proximity factor is calculated with several e-commerce factors in mind(eg. duration between the order date and delivery date).\n",
    "\n",
    "A simple outline for the value of this factor for Valentine's Day is as follows:\n",
    "\n",
    "<ul>\n",
    "  <li>a nonzero value between February 2 and February 12</li>\n",
    "  <li>zero before and after this date unless it is close to another special day</li>\n",
    "  <li>maximum value of 1 on February 8</li>\n",
    "</ul>"
   ]
  },
  {
   "cell_type": "markdown",
   "metadata": {},
   "source": [
    "Let's check out what this interesting explanatory variable looks like."
   ]
  },
  {
   "cell_type": "code",
   "execution_count": 363,
   "metadata": {
    "collapsed": false
   },
   "outputs": [
    {
     "data": {
      "text/plain": [
       "array([ 0. ,  0.4,  0.8,  1. ,  0.2,  0.6])"
      ]
     },
     "execution_count": 363,
     "metadata": {},
     "output_type": "execute_result"
    }
   ],
   "source": [
    "df.SpecialDay.unique()"
   ]
  },
  {
   "cell_type": "markdown",
   "metadata": {},
   "source": [
    "Logically speaking, most days over the course of a year are **not special** in the sense that we don't celebrate something everyday. That is what essentially defines these special days as...well, special.\n",
    "\n",
    "So the factor of 0 is essentially giving us the information for regular days and it would be much more interesting to disregard those days for the analysis in this particular section as we can then analyze exactly when is the time that most customers tend to **seal the deal** in the days near a Special Day.\n",
    "\n",
    "We can also inspect how much time they tend to spend in this particular time of interest."
   ]
  },
  {
   "cell_type": "code",
   "execution_count": 364,
   "metadata": {
    "collapsed": false
   },
   "outputs": [
    {
     "data": {
      "text/html": [
       "<div>\n",
       "<style scoped>\n",
       "    .dataframe tbody tr th:only-of-type {\n",
       "        vertical-align: middle;\n",
       "    }\n",
       "\n",
       "    .dataframe tbody tr th {\n",
       "        vertical-align: top;\n",
       "    }\n",
       "\n",
       "    .dataframe thead th {\n",
       "        text-align: right;\n",
       "    }\n",
       "</style>\n",
       "<table border=\"1\" class=\"dataframe\">\n",
       "  <thead>\n",
       "    <tr style=\"text-align: right;\">\n",
       "      <th></th>\n",
       "      <th>Revenue</th>\n",
       "      <th>ProductRelated_Duration</th>\n",
       "    </tr>\n",
       "    <tr>\n",
       "      <th>SpecialDay</th>\n",
       "      <th></th>\n",
       "      <th></th>\n",
       "    </tr>\n",
       "  </thead>\n",
       "  <tbody>\n",
       "    <tr>\n",
       "      <th>0.2</th>\n",
       "      <td>True</td>\n",
       "      <td>338.0</td>\n",
       "    </tr>\n",
       "    <tr>\n",
       "      <th>0.4</th>\n",
       "      <td>True</td>\n",
       "      <td>274.0</td>\n",
       "    </tr>\n",
       "    <tr>\n",
       "      <th>0.6</th>\n",
       "      <td>True</td>\n",
       "      <td>603.0</td>\n",
       "    </tr>\n",
       "    <tr>\n",
       "      <th>0.8</th>\n",
       "      <td>True</td>\n",
       "      <td>281.0</td>\n",
       "    </tr>\n",
       "    <tr>\n",
       "      <th>1.0</th>\n",
       "      <td>True</td>\n",
       "      <td>162.0</td>\n",
       "    </tr>\n",
       "  </tbody>\n",
       "</table>\n",
       "</div>"
      ],
      "text/plain": [
       "            Revenue  ProductRelated_Duration\n",
       "SpecialDay                                  \n",
       "0.2            True                    338.0\n",
       "0.4            True                    274.0\n",
       "0.6            True                    603.0\n",
       "0.8            True                    281.0\n",
       "1.0            True                    162.0"
      ]
     },
     "execution_count": 364,
     "metadata": {},
     "output_type": "execute_result"
    }
   ],
   "source": [
    "df_sp = df.groupby(['SpecialDay','Revenue'])['ProductRelated_Duration'].sum().reset_index()\n",
    "df_sp.set_index('SpecialDay',inplace=True)\n",
    "\n",
    "#Disregard 'Ordinary Days'\n",
    "df_sp.drop([0.0],inplace=True)\n",
    "\n",
    "df_sp['ProductRelated_Duration']=df_sp[['ProductRelated_Duration']]//60   #Time in minutes\n",
    "\n",
    "df_sp = df_sp[df_sp['Revenue']==True]  #Only successful visits\n",
    "df_sp"
   ]
  },
  {
   "cell_type": "markdown",
   "metadata": {},
   "source": [
    "Basically, what we have here is the distribution of time spent on **Product-associated** pages, with respect to Special Day proximity."
   ]
  },
  {
   "cell_type": "code",
   "execution_count": 365,
   "metadata": {
    "collapsed": false
   },
   "outputs": [
    {
     "data": {
      "image/png": "[encoded data removed]",
      "text/plain": [
       "<Figure size 432x288 with 1 Axes>"
      ]
     },
     "metadata": {},
     "output_type": "display_data"
    }
   ],
   "source": [
    "df_sp.ProductRelated_Duration.plot.bar()\n",
    "plt.xlabel('Proximity to a Special Day')\n",
    "plt.ylabel('Time spent on product-related pages(minutes)')\n",
    "plt.title('Proximity to a Special Day vs. Successful Transaction')\n",
    "plt.show()"
   ]
  },
  {
   "cell_type": "markdown",
   "metadata": {},
   "source": [
    "Clearly, the **sweet factor** (so to speak) is 0.6. Recalling the given interpretation for Valentine's Day, this means that around February 8th, we had a maximum value for the factor, whereas in the days leading up to that, we had the sweet spot of **0.6**. So with this logic in mind, perhaps the business can focus on advertising attachments and products in bulk during this phase near a Special Day, in order to grab the most opportunities and utilize them to the max."
   ]
  },
  {
   "cell_type": "markdown",
   "metadata": {},
   "source": [
    "So, let's move on and take a look at two features that are sure to demonstrate some useful trends."
   ]
  },
  {
   "cell_type": "markdown",
   "metadata": {},
   "source": [
    "## <div id=\"1.5\">1.5: Regional Impact & Customer types</div>"
   ]
  },
  {
   "cell_type": "markdown",
   "metadata": {},
   "source": [
    "In any given business scenario, the location of the customer is a crucial factor. Binning our data across the different regions will help highlight any useful trends.\n",
    "\n",
    " Moreover, we all know about the value of returning customers. The key to a good retail experience for a visiting customer is for them to be greeted well by the sales representatives on the floor and to have their needs met. This ensures that they will certainly be more inclined to come back in the near future to do business once again with the company outlet.\n",
    " \n",
    " In an online scenario, the website could certainly do well if it could highlight whether it needs to improve with respect to Returning or New customers."
   ]
  },
  {
   "cell_type": "markdown",
   "metadata": {},
   "source": [
    "### Regional Analysis"
   ]
  },
  {
   "cell_type": "markdown",
   "metadata": {},
   "source": [
    "First of all, how many different regions are we even dealing with in this problem?"
   ]
  },
  {
   "cell_type": "code",
   "execution_count": 366,
   "metadata": {
    "collapsed": false
   },
   "outputs": [
    {
     "data": {
      "text/plain": [
       "9"
      ]
     },
     "execution_count": 366,
     "metadata": {},
     "output_type": "execute_result"
    }
   ],
   "source": [
    "len(df.Region.unique())"
   ]
  },
  {
   "cell_type": "markdown",
   "metadata": {},
   "source": [
    "So, it appears that we have **nine unique** segments that we must consider. Let's group our data and see which regions contained the most customers who completed their visit with a transaction."
   ]
  },
  {
   "cell_type": "code",
   "execution_count": 367,
   "metadata": {
    "collapsed": false
   },
   "outputs": [
    {
     "data": {
      "text/html": [
       "<div>\n",
       "<style scoped>\n",
       "    .dataframe tbody tr th:only-of-type {\n",
       "        vertical-align: middle;\n",
       "    }\n",
       "\n",
       "    .dataframe tbody tr th {\n",
       "        vertical-align: top;\n",
       "    }\n",
       "\n",
       "    .dataframe thead th {\n",
       "        text-align: right;\n",
       "    }\n",
       "</style>\n",
       "<table border=\"1\" class=\"dataframe\">\n",
       "  <thead>\n",
       "    <tr style=\"text-align: right;\">\n",
       "      <th></th>\n",
       "      <th></th>\n",
       "      <th>Count</th>\n",
       "    </tr>\n",
       "    <tr>\n",
       "      <th>Region</th>\n",
       "      <th>Revenue</th>\n",
       "      <th></th>\n",
       "    </tr>\n",
       "  </thead>\n",
       "  <tbody>\n",
       "    <tr>\n",
       "      <th rowspan=\"2\" valign=\"top\">1</th>\n",
       "      <th>False</th>\n",
       "      <td>4009</td>\n",
       "    </tr>\n",
       "    <tr>\n",
       "      <th>True</th>\n",
       "      <td>771</td>\n",
       "    </tr>\n",
       "    <tr>\n",
       "      <th rowspan=\"2\" valign=\"top\">2</th>\n",
       "      <th>False</th>\n",
       "      <td>948</td>\n",
       "    </tr>\n",
       "    <tr>\n",
       "      <th>True</th>\n",
       "      <td>188</td>\n",
       "    </tr>\n",
       "    <tr>\n",
       "      <th rowspan=\"2\" valign=\"top\">3</th>\n",
       "      <th>False</th>\n",
       "      <td>2054</td>\n",
       "    </tr>\n",
       "    <tr>\n",
       "      <th>True</th>\n",
       "      <td>349</td>\n",
       "    </tr>\n",
       "    <tr>\n",
       "      <th rowspan=\"2\" valign=\"top\">4</th>\n",
       "      <th>False</th>\n",
       "      <td>1007</td>\n",
       "    </tr>\n",
       "    <tr>\n",
       "      <th>True</th>\n",
       "      <td>175</td>\n",
       "    </tr>\n",
       "    <tr>\n",
       "      <th rowspan=\"2\" valign=\"top\">5</th>\n",
       "      <th>False</th>\n",
       "      <td>266</td>\n",
       "    </tr>\n",
       "    <tr>\n",
       "      <th>True</th>\n",
       "      <td>52</td>\n",
       "    </tr>\n",
       "    <tr>\n",
       "      <th rowspan=\"2\" valign=\"top\">6</th>\n",
       "      <th>False</th>\n",
       "      <td>693</td>\n",
       "    </tr>\n",
       "    <tr>\n",
       "      <th>True</th>\n",
       "      <td>112</td>\n",
       "    </tr>\n",
       "    <tr>\n",
       "      <th rowspan=\"2\" valign=\"top\">7</th>\n",
       "      <th>False</th>\n",
       "      <td>642</td>\n",
       "    </tr>\n",
       "    <tr>\n",
       "      <th>True</th>\n",
       "      <td>119</td>\n",
       "    </tr>\n",
       "    <tr>\n",
       "      <th rowspan=\"2\" valign=\"top\">8</th>\n",
       "      <th>False</th>\n",
       "      <td>378</td>\n",
       "    </tr>\n",
       "    <tr>\n",
       "      <th>True</th>\n",
       "      <td>56</td>\n",
       "    </tr>\n",
       "    <tr>\n",
       "      <th rowspan=\"2\" valign=\"top\">9</th>\n",
       "      <th>False</th>\n",
       "      <td>425</td>\n",
       "    </tr>\n",
       "    <tr>\n",
       "      <th>True</th>\n",
       "      <td>86</td>\n",
       "    </tr>\n",
       "  </tbody>\n",
       "</table>\n",
       "</div>"
      ],
      "text/plain": [
       "                Count\n",
       "Region Revenue       \n",
       "1      False     4009\n",
       "       True       771\n",
       "2      False      948\n",
       "       True       188\n",
       "3      False     2054\n",
       "       True       349\n",
       "4      False     1007\n",
       "       True       175\n",
       "5      False      266\n",
       "       True        52\n",
       "6      False      693\n",
       "       True       112\n",
       "7      False      642\n",
       "       True       119\n",
       "8      False      378\n",
       "       True        56\n",
       "9      False      425\n",
       "       True        86"
      ]
     },
     "execution_count": 367,
     "metadata": {},
     "output_type": "execute_result"
    }
   ],
   "source": [
    "regional_df = df.groupby(['Region','Revenue'])[['ProductRelated']].count()\n",
    "regional_df.rename(columns={'ProductRelated':'Count'},inplace=True)\n",
    "regional_df"
   ]
  },
  {
   "cell_type": "markdown",
   "metadata": {},
   "source": [
    "So, the subset above clearly highlights the different groups and the number of occurences for each, but let's rather inspect the customers who actually bought something by the end of their visit."
   ]
  },
  {
   "cell_type": "code",
   "execution_count": 368,
   "metadata": {
    "collapsed": false
   },
   "outputs": [
    {
     "data": {
      "text/html": [
       "<div>\n",
       "<style scoped>\n",
       "    .dataframe tbody tr th:only-of-type {\n",
       "        vertical-align: middle;\n",
       "    }\n",
       "\n",
       "    .dataframe tbody tr th {\n",
       "        vertical-align: top;\n",
       "    }\n",
       "\n",
       "    .dataframe thead th {\n",
       "        text-align: right;\n",
       "    }\n",
       "</style>\n",
       "<table border=\"1\" class=\"dataframe\">\n",
       "  <thead>\n",
       "    <tr style=\"text-align: right;\">\n",
       "      <th></th>\n",
       "      <th>Revenue</th>\n",
       "      <th>Count</th>\n",
       "    </tr>\n",
       "    <tr>\n",
       "      <th>Region</th>\n",
       "      <th></th>\n",
       "      <th></th>\n",
       "    </tr>\n",
       "  </thead>\n",
       "  <tbody>\n",
       "    <tr>\n",
       "      <th>1</th>\n",
       "      <td>True</td>\n",
       "      <td>771</td>\n",
       "    </tr>\n",
       "    <tr>\n",
       "      <th>3</th>\n",
       "      <td>True</td>\n",
       "      <td>349</td>\n",
       "    </tr>\n",
       "    <tr>\n",
       "      <th>2</th>\n",
       "      <td>True</td>\n",
       "      <td>188</td>\n",
       "    </tr>\n",
       "    <tr>\n",
       "      <th>4</th>\n",
       "      <td>True</td>\n",
       "      <td>175</td>\n",
       "    </tr>\n",
       "    <tr>\n",
       "      <th>7</th>\n",
       "      <td>True</td>\n",
       "      <td>119</td>\n",
       "    </tr>\n",
       "    <tr>\n",
       "      <th>6</th>\n",
       "      <td>True</td>\n",
       "      <td>112</td>\n",
       "    </tr>\n",
       "    <tr>\n",
       "      <th>9</th>\n",
       "      <td>True</td>\n",
       "      <td>86</td>\n",
       "    </tr>\n",
       "    <tr>\n",
       "      <th>8</th>\n",
       "      <td>True</td>\n",
       "      <td>56</td>\n",
       "    </tr>\n",
       "    <tr>\n",
       "      <th>5</th>\n",
       "      <td>True</td>\n",
       "      <td>52</td>\n",
       "    </tr>\n",
       "  </tbody>\n",
       "</table>\n",
       "</div>"
      ],
      "text/plain": [
       "        Revenue  Count\n",
       "Region                \n",
       "1          True    771\n",
       "3          True    349\n",
       "2          True    188\n",
       "4          True    175\n",
       "7          True    119\n",
       "6          True    112\n",
       "9          True     86\n",
       "8          True     56\n",
       "5          True     52"
      ]
     },
     "execution_count": 368,
     "metadata": {},
     "output_type": "execute_result"
    }
   ],
   "source": [
    "reg_true = regional_df.reset_index()[regional_df.reset_index()['Revenue']==True]\n",
    "reg_true.set_index('Region',inplace=True)\n",
    "reg_true.sort_values('Count',ascending=False,inplace=True)\n",
    "reg_true"
   ]
  },
  {
   "cell_type": "code",
   "execution_count": 369,
   "metadata": {
    "collapsed": false
   },
   "outputs": [
    {
     "data": {
      "image/png": "[encoded data removed]",
      "text/plain": [
       "<Figure size 576x288 with 1 Axes>"
      ]
     },
     "metadata": {},
     "output_type": "display_data"
    }
   ],
   "source": [
    "reg_true.Count.plot.bar(figsize=(8,4))\n",
    "plt.ylabel('# Visits ending with a Transaction')\n",
    "plt.xlabel('Region')\n",
    "plt.show()"
   ]
  },
  {
   "cell_type": "markdown",
   "metadata": {},
   "source": [
    "Clearly, customers from **Regions 1,2,3 and 4** were of high value in nature. Moving forward, the company can choose to focus their efforts on promoting services to them in order to help both parties (consumer and the business) benefit, since given the current data, we can see that these customers are rather inclined to end their visit to the website with a purchase."
   ]
  },
  {
   "cell_type": "markdown",
   "metadata": {},
   "source": [
    "### Type of customer"
   ]
  },
  {
   "cell_type": "markdown",
   "metadata": {},
   "source": [
    "With regards to **the type of Customer**, let's see how many classes we're dealing with here."
   ]
  },
  {
   "cell_type": "code",
   "execution_count": 370,
   "metadata": {
    "collapsed": false
   },
   "outputs": [
    {
     "data": {
      "text/plain": [
       "array(['Returning_Visitor', 'New_Visitor', 'Other'], dtype=object)"
      ]
     },
     "execution_count": 370,
     "metadata": {},
     "output_type": "execute_result"
    }
   ],
   "source": [
    "df.VisitorType.unique()"
   ]
  },
  {
   "cell_type": "markdown",
   "metadata": {},
   "source": [
    "So, we can be dealing with either a new customer, a returning one or... **other**(which is a rather odd one)."
   ]
  },
  {
   "cell_type": "code",
   "execution_count": 371,
   "metadata": {
    "collapsed": false
   },
   "outputs": [
    {
     "data": {
      "text/html": [
       "<div>\n",
       "<style scoped>\n",
       "    .dataframe tbody tr th:only-of-type {\n",
       "        vertical-align: middle;\n",
       "    }\n",
       "\n",
       "    .dataframe tbody tr th {\n",
       "        vertical-align: top;\n",
       "    }\n",
       "\n",
       "    .dataframe thead th {\n",
       "        text-align: right;\n",
       "    }\n",
       "</style>\n",
       "<table border=\"1\" class=\"dataframe\">\n",
       "  <thead>\n",
       "    <tr style=\"text-align: right;\">\n",
       "      <th></th>\n",
       "      <th>Revenue</th>\n",
       "      <th>Count</th>\n",
       "    </tr>\n",
       "    <tr>\n",
       "      <th>VisitorType</th>\n",
       "      <th></th>\n",
       "      <th></th>\n",
       "    </tr>\n",
       "  </thead>\n",
       "  <tbody>\n",
       "    <tr>\n",
       "      <th>New_Visitor</th>\n",
       "      <td>False</td>\n",
       "      <td>1272</td>\n",
       "    </tr>\n",
       "    <tr>\n",
       "      <th>New_Visitor</th>\n",
       "      <td>True</td>\n",
       "      <td>422</td>\n",
       "    </tr>\n",
       "    <tr>\n",
       "      <th>Other</th>\n",
       "      <td>False</td>\n",
       "      <td>69</td>\n",
       "    </tr>\n",
       "    <tr>\n",
       "      <th>Other</th>\n",
       "      <td>True</td>\n",
       "      <td>16</td>\n",
       "    </tr>\n",
       "    <tr>\n",
       "      <th>Returning_Visitor</th>\n",
       "      <td>False</td>\n",
       "      <td>9081</td>\n",
       "    </tr>\n",
       "    <tr>\n",
       "      <th>Returning_Visitor</th>\n",
       "      <td>True</td>\n",
       "      <td>1470</td>\n",
       "    </tr>\n",
       "  </tbody>\n",
       "</table>\n",
       "</div>"
      ],
      "text/plain": [
       "                   Revenue  Count\n",
       "VisitorType                      \n",
       "New_Visitor          False   1272\n",
       "New_Visitor           True    422\n",
       "Other                False     69\n",
       "Other                 True     16\n",
       "Returning_Visitor    False   9081\n",
       "Returning_Visitor     True   1470"
      ]
     },
     "execution_count": 371,
     "metadata": {},
     "output_type": "execute_result"
    }
   ],
   "source": [
    "visitor_df = df.groupby(['VisitorType','Revenue'])[['ProductRelated_Duration']].count().reset_index()\n",
    "visitor_df.rename(columns={'ProductRelated_Duration':'Count'},inplace=True)\n",
    "visitor_df.set_index('VisitorType')"
   ]
  },
  {
   "cell_type": "markdown",
   "metadata": {},
   "source": [
    "Let's break this down. As we can see, people who are visiting the website for the first time quite often ended up buying something by the end of their visit, in comparison to those who were returning visitors to the site. In most instances of returning visitors, a huge number of them did not end up buying anything.\n",
    "\n",
    "Over the course of the year, if we were to inspect the visitors who had a fruitful visit to the site, we would see:"
   ]
  },
  {
   "cell_type": "code",
   "execution_count": 372,
   "metadata": {
    "collapsed": false
   },
   "outputs": [
    {
     "data": {
      "image/png": "[encoded data removed]",
      "text/plain": [
       "<Figure size 432x288 with 1 Axes>"
      ]
     },
     "metadata": {},
     "output_type": "display_data"
    }
   ],
   "source": [
    "visitor_df = visitor_df[visitor_df['Revenue']==True]  #Only successful visits\n",
    "visitor_df.set_index('VisitorType',inplace=True)\n",
    "visitor_df.Count.plot.barh()\n",
    "plt.xlabel('# Successful Website visits')\n",
    "plt.title('Visitor Type vs. Website Visit success')\n",
    "plt.show()"
   ]
  },
  {
   "cell_type": "markdown",
   "metadata": {},
   "source": [
    "As expected, returning visitors account for the bulk of the data and thus we can see that they ended up sealing the deal with a transaction by the end of their visit more so than new customers.\n",
    "\n",
    "Perhaps, the company can take some initiative to give more discount offers to first-time buyers in order to make their deals look more attractive? It would certainly help to boost those numbers into the **500+** range for the year-end tally of successful visits for new visitors to the site."
   ]
  },
  {
   "cell_type": "markdown",
   "metadata": {},
   "source": [
    "## <div id=\"1.6\">1.6: Operating System? That's interesting...</div>"
   ]
  },
  {
   "cell_type": "markdown",
   "metadata": {},
   "source": [
    "One of the features that I was quite skeptical about, was the Operating System feature. How or why would that impact our outcome?\n",
    "\n",
    "Let's see..."
   ]
  },
  {
   "cell_type": "code",
   "execution_count": 373,
   "metadata": {
    "collapsed": false
   },
   "outputs": [
    {
     "data": {
      "text/plain": [
       "array([1, 2, 4, 3, 7, 6, 8, 5], dtype=int64)"
      ]
     },
     "execution_count": 373,
     "metadata": {},
     "output_type": "execute_result"
    }
   ],
   "source": [
    "df.OperatingSystems.unique()"
   ]
  },
  {
   "cell_type": "markdown",
   "metadata": {},
   "source": [
    "We have 8 different Operating system classes to consider. So, let's group our data accordingly to investigate the visitors who **actually purchased something**."
   ]
  },
  {
   "cell_type": "code",
   "execution_count": 374,
   "metadata": {
    "collapsed": false
   },
   "outputs": [
    {
     "data": {
      "text/html": [
       "<div>\n",
       "<style scoped>\n",
       "    .dataframe tbody tr th:only-of-type {\n",
       "        vertical-align: middle;\n",
       "    }\n",
       "\n",
       "    .dataframe tbody tr th {\n",
       "        vertical-align: top;\n",
       "    }\n",
       "\n",
       "    .dataframe thead th {\n",
       "        text-align: right;\n",
       "    }\n",
       "</style>\n",
       "<table border=\"1\" class=\"dataframe\">\n",
       "  <thead>\n",
       "    <tr style=\"text-align: right;\">\n",
       "      <th></th>\n",
       "      <th>Revenue</th>\n",
       "      <th>Count</th>\n",
       "    </tr>\n",
       "    <tr>\n",
       "      <th>OperatingSystems</th>\n",
       "      <th></th>\n",
       "      <th></th>\n",
       "    </tr>\n",
       "  </thead>\n",
       "  <tbody>\n",
       "    <tr>\n",
       "      <th>1</th>\n",
       "      <td>True</td>\n",
       "      <td>379</td>\n",
       "    </tr>\n",
       "    <tr>\n",
       "      <th>2</th>\n",
       "      <td>True</td>\n",
       "      <td>1155</td>\n",
       "    </tr>\n",
       "    <tr>\n",
       "      <th>3</th>\n",
       "      <td>True</td>\n",
       "      <td>268</td>\n",
       "    </tr>\n",
       "    <tr>\n",
       "      <th>4</th>\n",
       "      <td>True</td>\n",
       "      <td>85</td>\n",
       "    </tr>\n",
       "    <tr>\n",
       "      <th>5</th>\n",
       "      <td>True</td>\n",
       "      <td>1</td>\n",
       "    </tr>\n",
       "    <tr>\n",
       "      <th>6</th>\n",
       "      <td>True</td>\n",
       "      <td>2</td>\n",
       "    </tr>\n",
       "    <tr>\n",
       "      <th>7</th>\n",
       "      <td>True</td>\n",
       "      <td>1</td>\n",
       "    </tr>\n",
       "    <tr>\n",
       "      <th>8</th>\n",
       "      <td>True</td>\n",
       "      <td>17</td>\n",
       "    </tr>\n",
       "  </tbody>\n",
       "</table>\n",
       "</div>"
      ],
      "text/plain": [
       "                  Revenue  Count\n",
       "OperatingSystems                \n",
       "1                    True    379\n",
       "2                    True   1155\n",
       "3                    True    268\n",
       "4                    True     85\n",
       "5                    True      1\n",
       "6                    True      2\n",
       "7                    True      1\n",
       "8                    True     17"
      ]
     },
     "execution_count": 374,
     "metadata": {},
     "output_type": "execute_result"
    }
   ],
   "source": [
    "os_df = df.groupby( ['OperatingSystems','Revenue'])['Region'].count().reset_index()\n",
    "os_df.rename(columns={'Region':'Count'},inplace=True)\n",
    "os_true = os_df[os_df['Revenue']==True]\n",
    "os_true.set_index('OperatingSystems',inplace=True)\n",
    "os_true"
   ]
  },
  {
   "cell_type": "markdown",
   "metadata": {},
   "source": [
    "Let's see what this actually looks like:"
   ]
  },
  {
   "cell_type": "code",
   "execution_count": 375,
   "metadata": {
    "collapsed": false
   },
   "outputs": [
    {
     "data": {
      "image/png": "[encoded data removed]",
      "text/plain": [
       "<Figure size 432x288 with 1 Axes>"
      ]
     },
     "metadata": {},
     "output_type": "display_data"
    }
   ],
   "source": [
    "os_true.Count.plot.bar()\n",
    "plt.ylabel('# Visits ending with a Transaction')\n",
    "plt.xlabel('Operating System Label')\n",
    "plt.title('Operating System Dependency')\n",
    "plt.show()"
   ]
  },
  {
   "cell_type": "markdown",
   "metadata": {},
   "source": [
    "Ouch. It looks like our data is heavily focused around users who were on **Operating System Class 2**.\n",
    "In any event, this isn't necessarily an indication of whether a particular OS can determine the binary outcome we are trying to predict, but we must definitely keep in mind that much of our **positive outcome** class output data (ie.those who bought something) comes from the aforementioned Operating System users.\n",
    "\n",
    "It's also worth noting that **no users** on systems **5, 6 or 7** contributed to the positive output class."
   ]
  },
  {
   "cell_type": "markdown",
   "metadata": {},
   "source": [
    "This wraps up our Exploratory Data Analysis section. We can now move on to the really exciting content:\n",
    "**Data Preprocessing**\n",
    "\n",
    "No, that isn't the exciting bit. The real action in the following section will be the **Naive Bayes classifier** that we will set up!"
   ]
  },
  {
   "cell_type": "markdown",
   "metadata": {},
   "source": [
    "# <div id=\"sec 2\">Section 2: Data Preprocessing + Vanilla model</div>"
   ]
  },
  {
   "cell_type": "markdown",
   "metadata": {},
   "source": [
    "It's time to get underway with the routine checks on Data:  \n",
    "\n",
    "<ul>\n",
    "  <li>Are there any missing values?</li>\n",
    "  <li>What is the **inferred type** (ie. the base type when we imported the dataset with pandas) for each of our features?</li>\n",
    "  <li>Should we standardize the data?(since we will be implementing two models, the answer is by default, yes)</li>\n",
    "  <li> How should we deal with the categorical features?</li>\n",
    "</ul>\n"
   ]
  },
  {
   "cell_type": "markdown",
   "metadata": {},
   "source": [
    "Before we proceed onto all the manipulations below, it's best to keep a copy of our initial DataFrame hanging around, just in case. So, we will quickly make a backup."
   ]
  },
  {
   "cell_type": "code",
   "execution_count": 376,
   "metadata": {
    "collapsed": false
   },
   "outputs": [],
   "source": [
    "df_copy =df.copy() "
   ]
  },
  {
   "cell_type": "markdown",
   "metadata": {},
   "source": [
    "## <div id=\"2.1\">2.1: Dealing with Categorical Features</div>"
   ]
  },
  {
   "cell_type": "markdown",
   "metadata": {
    "collapsed": true
   },
   "source": [
    "First order of business: Missing Data. I restated an important question up there that we've already answered near the beginning of this project (check <a href=\"#to_1.2\">Section 1.2</a>). \n",
    "\n",
    "So, to reiterate, we do not have any null values for any of our explanatory variables, but it's always important to remind ourselves that checking for this issue is one of the first steps in data preprocessing(or **EDA** in general).\n",
    "\n",
    "Now, let's check the **data type** that pandas inferred for each of our features when we imported the dataset."
   ]
  },
  {
   "cell_type": "code",
   "execution_count": 377,
   "metadata": {
    "collapsed": false
   },
   "outputs": [
    {
     "data": {
      "text/plain": [
       "Administrative               int64\n",
       "Administrative_Duration    float64\n",
       "Informational                int64\n",
       "Informational_Duration     float64\n",
       "ProductRelated               int64\n",
       "ProductRelated_Duration    float64\n",
       "BounceRates                float64\n",
       "ExitRates                  float64\n",
       "PageValues                 float64\n",
       "SpecialDay                 float64\n",
       "Month                       object\n",
       "OperatingSystems             int64\n",
       "Browser                      int64\n",
       "Region                       int64\n",
       "TrafficType                  int64\n",
       "VisitorType                 object\n",
       "Weekend                       bool\n",
       "Revenue                       bool\n",
       "dtype: object"
      ]
     },
     "execution_count": 377,
     "metadata": {},
     "output_type": "execute_result"
    }
   ],
   "source": [
    "df.dtypes"
   ]
  },
  {
   "cell_type": "markdown",
   "metadata": {},
   "source": [
    "It looks like all of the information related to pages(duration, count, ExitRates,etc.) have been read in as either **Integer(for whole counts)** or **Float values**. Everything looks appropriate as of yet, however two of the Categorical features that we inspected in the EDA section(**OperatingSystems  and Region **) have been assigned as integers.\n",
    "\n",
    "In reality, they are simply distinct nominal values(relating to a particular class), so we should fix that right away. The code snippet below converts all of our prime **Categorical features** into the appropriate data type."
   ]
  },
  {
   "cell_type": "code",
   "execution_count": 378,
   "metadata": {
    "collapsed": true
   },
   "outputs": [],
   "source": [
    "df['Month'] = pd.Categorical(df['Month'])\n",
    "df['OperatingSystems'] = pd.Categorical(df['OperatingSystems'])\n",
    "df['Region'] = pd.Categorical(df['Region'])\n",
    "df['VisitorType'] = pd.Categorical(df['VisitorType'])"
   ]
  },
  {
   "cell_type": "markdown",
   "metadata": {},
   "source": [
    "Now, it's time for us to make a judgement call in this project. From the EDA, we know that the data can indeed display some tendancy to lie towards a particular category(eg. most successful transactions were in November, users on Operating System **#2** ended up being the most active buyers).\n",
    "\n",
    "However, intuitively speaking, it does not seem that a particular **Browser** would really impact whether a customer felt like purchasing something at the end of their session. Moreover, the analysis of the impact of different types of **Webpage Traffic types** is beyond the scope of this project. So, moving forward, to <i>slightly </i> reduce our dimensions, we will **drop** these features from our DataFrame."
   ]
  },
  {
   "cell_type": "code",
   "execution_count": 379,
   "metadata": {
    "collapsed": true
   },
   "outputs": [],
   "source": [
    "df.drop('TrafficType',axis = 1,inplace=True)\n",
    "df.drop('Browser',axis = 1,inplace=True)"
   ]
  },
  {
   "cell_type": "markdown",
   "metadata": {},
   "source": [
    "Now, let's take a look at the kind of features we are working with and observe the shape of our DataFrame."
   ]
  },
  {
   "cell_type": "code",
   "execution_count": 380,
   "metadata": {
    "collapsed": false
   },
   "outputs": [
    {
     "data": {
      "text/plain": [
       "Administrative                int64\n",
       "Administrative_Duration     float64\n",
       "Informational                 int64\n",
       "Informational_Duration      float64\n",
       "ProductRelated                int64\n",
       "ProductRelated_Duration     float64\n",
       "BounceRates                 float64\n",
       "ExitRates                   float64\n",
       "PageValues                  float64\n",
       "SpecialDay                  float64\n",
       "Month                      category\n",
       "OperatingSystems           category\n",
       "Region                     category\n",
       "VisitorType                category\n",
       "Weekend                        bool\n",
       "Revenue                        bool\n",
       "dtype: object"
      ]
     },
     "execution_count": 380,
     "metadata": {},
     "output_type": "execute_result"
    }
   ],
   "source": [
    "df.dtypes"
   ]
  },
  {
   "cell_type": "markdown",
   "metadata": {},
   "source": [
    "It's important to note that the **Weekend** feature is a Binary variable. If it's **True**(ie. a binary value of 1), the given day of the transaction was a weekend, and conversely... "
   ]
  },
  {
   "cell_type": "code",
   "execution_count": 381,
   "metadata": {
    "collapsed": false
   },
   "outputs": [
    {
     "data": {
      "text/plain": [
       "array([False,  True], dtype=bool)"
      ]
     },
     "execution_count": 381,
     "metadata": {},
     "output_type": "execute_result"
    }
   ],
   "source": [
    "df.Weekend.unique()"
   ]
  },
  {
   "cell_type": "code",
   "execution_count": 382,
   "metadata": {
    "collapsed": false
   },
   "outputs": [
    {
     "data": {
      "text/plain": [
       "(12330, 16)"
      ]
     },
     "execution_count": 382,
     "metadata": {},
     "output_type": "execute_result"
    }
   ],
   "source": [
    "df.shape"
   ]
  },
  {
   "cell_type": "markdown",
   "metadata": {},
   "source": [
    "We are thus dealing with **15 Explanatory Variables** and we will be using them to predict **Revenue**: will a visitor with a particular set of these features end up completing a transaction before they end their session?\n",
    "\n",
    "We have **four categorical features**(each with their own classes) and we must now decide how to deal with those. To implement our basic classifier, we will put our machine through a bit of pain, in the sense that we will utilize **pandas** to get **Dummy variables** for each of the features.\n",
    "\n",
    "To help alleviate some of the pain(ie. reduce some redundancy/paralellism in information) , we will drop one variable in each instance. Sounds messy? Here's a small example."
   ]
  },
  {
   "cell_type": "markdown",
   "metadata": {},
   "source": [
    "If **Month** was our only Categorical feature, we would be taking the **Month** column in our DataFrame and esssentially for each row in the dataset, if an observation had a value for Month in say 'July', we would **add a 1** under a Dummy variable column for **that month** in our new DataFrame(which will contain by default, a column for each month from our 10 categories with either a 1 or a 0 under it for each observation).\n",
    "\n",
    "To avoid the **Dummy Variable Trap**, we will drop the column for one of the months. Why?\n",
    "Well, say that an observation contains 0 under every Dummy variable column(so all **9 out of 10 initial month columns**). Within the scope of the given data, if we had initially dropped the **July Dummy variable column**, we would know inherently that the given observation was **in July**(since all other months had zero indicator variables)."
   ]
  },
  {
   "cell_type": "markdown",
   "metadata": {
    "collapsed": true
   },
   "source": [
    "An important thing to note is that by doing this, we will be **significantly increasing** our dimensions. More data does not necessarily mean better results, as we will see in a bit. However, for the purpose of getting underway with model implementations, this method of dealing with Categorical features will allow us to prepare a **Matrix of Features** on which we can run our algorithms. We can then take some steps to select the most important features."
   ]
  },
  {
   "cell_type": "markdown",
   "metadata": {},
   "source": [
    "With all that being said, let's get started."
   ]
  },
  {
   "cell_type": "code",
   "execution_count": 383,
   "metadata": {
    "collapsed": true
   },
   "outputs": [],
   "source": [
    "df = pd.get_dummies(df, drop_first=True)   #to avoid Dummy Variable Trap"
   ]
  },
  {
   "cell_type": "markdown",
   "metadata": {},
   "source": [
    "Let's look at the damage we've done:"
   ]
  },
  {
   "cell_type": "code",
   "execution_count": 384,
   "metadata": {
    "collapsed": false
   },
   "outputs": [
    {
     "data": {
      "text/plain": [
       "(12330, 38)"
      ]
     },
     "execution_count": 384,
     "metadata": {},
     "output_type": "execute_result"
    }
   ],
   "source": [
    "df.shape"
   ]
  },
  {
   "cell_type": "code",
   "execution_count": 385,
   "metadata": {
    "collapsed": false
   },
   "outputs": [
    {
     "data": {
      "text/plain": [
       "Index(['Administrative', 'Administrative_Duration', 'Informational',\n",
       "       'Informational_Duration', 'ProductRelated', 'ProductRelated_Duration',\n",
       "       'BounceRates', 'ExitRates', 'PageValues', 'SpecialDay', 'Weekend',\n",
       "       'Revenue', 'Month_Dec', 'Month_Feb', 'Month_Jul', 'Month_June',\n",
       "       'Month_Mar', 'Month_May', 'Month_Nov', 'Month_Oct', 'Month_Sep',\n",
       "       'OperatingSystems_2', 'OperatingSystems_3', 'OperatingSystems_4',\n",
       "       'OperatingSystems_5', 'OperatingSystems_6', 'OperatingSystems_7',\n",
       "       'OperatingSystems_8', 'Region_2', 'Region_3', 'Region_4', 'Region_5',\n",
       "       'Region_6', 'Region_7', 'Region_8', 'Region_9', 'VisitorType_Other',\n",
       "       'VisitorType_Returning_Visitor'],\n",
       "      dtype='object')"
      ]
     },
     "execution_count": 385,
     "metadata": {},
     "output_type": "execute_result"
    }
   ],
   "source": [
    "df.columns"
   ]
  },
  {
   "cell_type": "markdown",
   "metadata": {},
   "source": [
    "Even after dropping one unnecessary column in each Category, we have ended up with **37 explanatory variables** that we will be plugging in by default to our model."
   ]
  },
  {
   "cell_type": "code",
   "execution_count": 386,
   "metadata": {
    "collapsed": false
   },
   "outputs": [
    {
     "data": {
      "text/html": [
       "<div>\n",
       "<style scoped>\n",
       "    .dataframe tbody tr th:only-of-type {\n",
       "        vertical-align: middle;\n",
       "    }\n",
       "\n",
       "    .dataframe tbody tr th {\n",
       "        vertical-align: top;\n",
       "    }\n",
       "\n",
       "    .dataframe thead th {\n",
       "        text-align: right;\n",
       "    }\n",
       "</style>\n",
       "<table border=\"1\" class=\"dataframe\">\n",
       "  <thead>\n",
       "    <tr style=\"text-align: right;\">\n",
       "      <th></th>\n",
       "      <th>Administrative</th>\n",
       "      <th>Administrative_Duration</th>\n",
       "      <th>Informational</th>\n",
       "      <th>Informational_Duration</th>\n",
       "      <th>ProductRelated</th>\n",
       "      <th>ProductRelated_Duration</th>\n",
       "      <th>BounceRates</th>\n",
       "      <th>ExitRates</th>\n",
       "      <th>PageValues</th>\n",
       "      <th>SpecialDay</th>\n",
       "      <th>...</th>\n",
       "      <th>Region_2</th>\n",
       "      <th>Region_3</th>\n",
       "      <th>Region_4</th>\n",
       "      <th>Region_5</th>\n",
       "      <th>Region_6</th>\n",
       "      <th>Region_7</th>\n",
       "      <th>Region_8</th>\n",
       "      <th>Region_9</th>\n",
       "      <th>VisitorType_Other</th>\n",
       "      <th>VisitorType_Returning_Visitor</th>\n",
       "    </tr>\n",
       "  </thead>\n",
       "  <tbody>\n",
       "    <tr>\n",
       "      <th>0</th>\n",
       "      <td>0</td>\n",
       "      <td>0.0</td>\n",
       "      <td>0</td>\n",
       "      <td>0.0</td>\n",
       "      <td>1</td>\n",
       "      <td>0.000000</td>\n",
       "      <td>0.20</td>\n",
       "      <td>0.20</td>\n",
       "      <td>0.0</td>\n",
       "      <td>0.0</td>\n",
       "      <td>...</td>\n",
       "      <td>0</td>\n",
       "      <td>0</td>\n",
       "      <td>0</td>\n",
       "      <td>0</td>\n",
       "      <td>0</td>\n",
       "      <td>0</td>\n",
       "      <td>0</td>\n",
       "      <td>0</td>\n",
       "      <td>0</td>\n",
       "      <td>1</td>\n",
       "    </tr>\n",
       "    <tr>\n",
       "      <th>1</th>\n",
       "      <td>0</td>\n",
       "      <td>0.0</td>\n",
       "      <td>0</td>\n",
       "      <td>0.0</td>\n",
       "      <td>2</td>\n",
       "      <td>64.000000</td>\n",
       "      <td>0.00</td>\n",
       "      <td>0.10</td>\n",
       "      <td>0.0</td>\n",
       "      <td>0.0</td>\n",
       "      <td>...</td>\n",
       "      <td>0</td>\n",
       "      <td>0</td>\n",
       "      <td>0</td>\n",
       "      <td>0</td>\n",
       "      <td>0</td>\n",
       "      <td>0</td>\n",
       "      <td>0</td>\n",
       "      <td>0</td>\n",
       "      <td>0</td>\n",
       "      <td>1</td>\n",
       "    </tr>\n",
       "    <tr>\n",
       "      <th>2</th>\n",
       "      <td>0</td>\n",
       "      <td>0.0</td>\n",
       "      <td>0</td>\n",
       "      <td>0.0</td>\n",
       "      <td>1</td>\n",
       "      <td>0.000000</td>\n",
       "      <td>0.20</td>\n",
       "      <td>0.20</td>\n",
       "      <td>0.0</td>\n",
       "      <td>0.0</td>\n",
       "      <td>...</td>\n",
       "      <td>0</td>\n",
       "      <td>0</td>\n",
       "      <td>0</td>\n",
       "      <td>0</td>\n",
       "      <td>0</td>\n",
       "      <td>0</td>\n",
       "      <td>0</td>\n",
       "      <td>1</td>\n",
       "      <td>0</td>\n",
       "      <td>1</td>\n",
       "    </tr>\n",
       "    <tr>\n",
       "      <th>3</th>\n",
       "      <td>0</td>\n",
       "      <td>0.0</td>\n",
       "      <td>0</td>\n",
       "      <td>0.0</td>\n",
       "      <td>2</td>\n",
       "      <td>2.666667</td>\n",
       "      <td>0.05</td>\n",
       "      <td>0.14</td>\n",
       "      <td>0.0</td>\n",
       "      <td>0.0</td>\n",
       "      <td>...</td>\n",
       "      <td>1</td>\n",
       "      <td>0</td>\n",
       "      <td>0</td>\n",
       "      <td>0</td>\n",
       "      <td>0</td>\n",
       "      <td>0</td>\n",
       "      <td>0</td>\n",
       "      <td>0</td>\n",
       "      <td>0</td>\n",
       "      <td>1</td>\n",
       "    </tr>\n",
       "    <tr>\n",
       "      <th>4</th>\n",
       "      <td>0</td>\n",
       "      <td>0.0</td>\n",
       "      <td>0</td>\n",
       "      <td>0.0</td>\n",
       "      <td>10</td>\n",
       "      <td>627.500000</td>\n",
       "      <td>0.02</td>\n",
       "      <td>0.05</td>\n",
       "      <td>0.0</td>\n",
       "      <td>0.0</td>\n",
       "      <td>...</td>\n",
       "      <td>0</td>\n",
       "      <td>0</td>\n",
       "      <td>0</td>\n",
       "      <td>0</td>\n",
       "      <td>0</td>\n",
       "      <td>0</td>\n",
       "      <td>0</td>\n",
       "      <td>0</td>\n",
       "      <td>0</td>\n",
       "      <td>1</td>\n",
       "    </tr>\n",
       "  </tbody>\n",
       "</table>\n",
       "<p>5 rows × 38 columns</p>\n",
       "</div>"
      ],
      "text/plain": [
       "   Administrative  Administrative_Duration  Informational  \\\n",
       "0               0                      0.0              0   \n",
       "1               0                      0.0              0   \n",
       "2               0                      0.0              0   \n",
       "3               0                      0.0              0   \n",
       "4               0                      0.0              0   \n",
       "\n",
       "   Informational_Duration  ProductRelated  ProductRelated_Duration  \\\n",
       "0                     0.0               1                 0.000000   \n",
       "1                     0.0               2                64.000000   \n",
       "2                     0.0               1                 0.000000   \n",
       "3                     0.0               2                 2.666667   \n",
       "4                     0.0              10               627.500000   \n",
       "\n",
       "   BounceRates  ExitRates  PageValues  SpecialDay  \\\n",
       "0         0.20       0.20         0.0         0.0   \n",
       "1         0.00       0.10         0.0         0.0   \n",
       "2         0.20       0.20         0.0         0.0   \n",
       "3         0.05       0.14         0.0         0.0   \n",
       "4         0.02       0.05         0.0         0.0   \n",
       "\n",
       "               ...                Region_2  Region_3  Region_4  Region_5  \\\n",
       "0              ...                       0         0         0         0   \n",
       "1              ...                       0         0         0         0   \n",
       "2              ...                       0         0         0         0   \n",
       "3              ...                       1         0         0         0   \n",
       "4              ...                       0         0         0         0   \n",
       "\n",
       "   Region_6  Region_7  Region_8  Region_9  VisitorType_Other  \\\n",
       "0         0         0         0         0                  0   \n",
       "1         0         0         0         0                  0   \n",
       "2         0         0         0         1                  0   \n",
       "3         0         0         0         0                  0   \n",
       "4         0         0         0         0                  0   \n",
       "\n",
       "   VisitorType_Returning_Visitor  \n",
       "0                              1  \n",
       "1                              1  \n",
       "2                              1  \n",
       "3                              1  \n",
       "4                              1  \n",
       "\n",
       "[5 rows x 38 columns]"
      ]
     },
     "execution_count": 386,
     "metadata": {},
     "output_type": "execute_result"
    }
   ],
   "source": [
    "df.head()"
   ]
  },
  {
   "cell_type": "markdown",
   "metadata": {},
   "source": [
    "## <div id=\"2.2\">2.2: Preparing the Matrices</div>"
   ]
  },
  {
   "cell_type": "markdown",
   "metadata": {
    "collapsed": true
   },
   "source": [
    "Since our algorithms will be leveraging matrices, it's time to say goodbye to the classic DataFrame structure we've been seing so far, because we will be seperating our data into two notable components, in **numpy** format (for the numerical computations we are about to perform):\n",
    "\n",
    "A Matrix of **Features**(X) and a **Dependent Variable Vector**(y)."
   ]
  },
  {
   "cell_type": "code",
   "execution_count": 387,
   "metadata": {
    "collapsed": true
   },
   "outputs": [],
   "source": [
    "X = df.iloc[:,df.columns != 'Revenue'].values\n",
    "y =df.iloc[:,df.columns == 'Revenue'].values"
   ]
  },
  {
   "cell_type": "markdown",
   "metadata": {},
   "source": [
    "Let's take a peek at our new Matrix."
   ]
  },
  {
   "cell_type": "code",
   "execution_count": 388,
   "metadata": {
    "collapsed": false
   },
   "outputs": [
    {
     "data": {
      "text/plain": [
       "array([[0, 0.0, 0, ..., 0, 0, 1],\n",
       "       [0, 0.0, 0, ..., 0, 0, 1],\n",
       "       [0, 0.0, 0, ..., 1, 0, 1],\n",
       "       ..., \n",
       "       [0, 0.0, 0, ..., 0, 0, 1],\n",
       "       [4, 75.0, 0, ..., 0, 0, 1],\n",
       "       [0, 0.0, 0, ..., 0, 0, 0]], dtype=object)"
      ]
     },
     "execution_count": 388,
     "metadata": {},
     "output_type": "execute_result"
    }
   ],
   "source": [
    "X"
   ]
  },
  {
   "cell_type": "code",
   "execution_count": 389,
   "metadata": {
    "collapsed": false
   },
   "outputs": [
    {
     "data": {
      "text/plain": [
       "(12330, 37)"
      ]
     },
     "execution_count": 389,
     "metadata": {},
     "output_type": "execute_result"
    }
   ],
   "source": [
    "X.shape"
   ]
  },
  {
   "cell_type": "markdown",
   "metadata": {},
   "source": [
    "So we have all of our observations, and the columns respective to each of the explanatory variables. However, in order to train our Machine Learning models on the data, we must split our data into two segments: **Training and Test Sets**.\n",
    "\n",
    "Instead of manually doing this, we will simply utilize the **Scikit Learn **library and choose an appropriate split for our data. Let's go with  a basic **80:20** split, with **20%** of our initial data being left for testing purposes, when we will run our model on unseen data and evaluate it's performance."
   ]
  },
  {
   "cell_type": "code",
   "execution_count": 390,
   "metadata": {
    "collapsed": true
   },
   "outputs": [],
   "source": [
    "# Splitting the dataset into the Training set and Test set\n",
    "from sklearn.model_selection import train_test_split\n",
    "X_train, X_test, y_train, y_test = train_test_split(X, y, test_size = 0.20, random_state = 0)"
   ]
  },
  {
   "cell_type": "markdown",
   "metadata": {},
   "source": [
    "## <div id=\"2.3\">2.3: Scaling/Standardization</div>"
   ]
  },
  {
   "cell_type": "markdown",
   "metadata": {
    "collapsed": true
   },
   "source": [
    "So, it's great that we have our necessary matrices with data, but the question is whether or not we have some **\"proper\"** data. Why the quotation marks?\n",
    "\n",
    "Machine Learning Algorithms utilize several different mathematical concepts and having some unnaturally large data points throughout the data that we pass in, can have **disproportionate **impacts on the outcome. Loss functions (for Optimization purposes) are also more stable when the data is **Standardized** (ie. it has a Mean of 0, and standard deviation of 1 such that it represents the classic bell shape curve in Statistics). \n",
    "\n",
    "Once again, instead of reinventing the wheel, we will leverage the <i> preprocessing </i> module from the **Scikit Learn **library. Using the **StandardScaler**, we will fit a scaling object to and transform our training Matrix of features and also fit it to our Test Data. "
   ]
  },
  {
   "cell_type": "code",
   "execution_count": 391,
   "metadata": {
    "collapsed": true
   },
   "outputs": [],
   "source": [
    "from sklearn.preprocessing import StandardScaler\n",
    "sc = StandardScaler()"
   ]
  },
  {
   "cell_type": "code",
   "execution_count": 392,
   "metadata": {
    "collapsed": true
   },
   "outputs": [],
   "source": [
    "X_train = sc.fit_transform(X_train)\n",
    "X_test = sc.transform(X_test)"
   ]
  },
  {
   "cell_type": "markdown",
   "metadata": {},
   "source": [
    "And at long last, we are ready to implement the **Gaussian Naive Bayes classifier** on our data and try and predict whether a given visitor to the website will actually buy something by the end of their browsing session."
   ]
  },
  {
   "cell_type": "markdown",
   "metadata": {},
   "source": [
    "## <div id=\"2.4\">2.4: A very Naive classifier(pun intended) </div>\n"
   ]
  },
  {
   "cell_type": "markdown",
   "metadata": {
    "collapsed": true
   },
   "source": [
    "### Gaussian Naive Bayes"
   ]
  },
  {
   "cell_type": "markdown",
   "metadata": {
    "collapsed": true
   },
   "source": [
    "Before we implement the algorithm itself, let's take a look at how it actually works. The Naive Bayesian classifier works with **conditional probabilities** under the **assumption of independence**\n",
    "among the explanatory feature variables. This assumption is indeed why it is called **Naive**; essentially in reality, we can see that plenty of features tend to have some inter-dependencies.\n",
    "\n",
    "However, all things considered, the approximation is good enough to build a computationally **fast** model which can work well with **high dimensional** datasets.\n",
    "\n",
    "\n",
    "In the scenario of this problem, we are dealing with a **Binary outcome class**. Say, a visitor will either purchase something(**True**) or not(**False**).\n",
    "We also have some features that we have compiled in the form of a **Matrix of Features(X)**.  \n",
    "\n",
    "So a given observation in our dataset has a certain set of probabilities associated with it. For a particular observation that we want to find the outcome label for, we can compute the following probabilities:\n"
   ]
  },
  {
   "cell_type": "markdown",
   "metadata": {},
   "source": [
    "<u> Prior probability:</u>   $P(True)= \\frac{\\text{Number of observations identifying as Positive class(1908)}}{\\text{Total Number of Observations(12,330)}} $"
   ]
  },
  {
   "cell_type": "markdown",
   "metadata": {},
   "source": [
    "<u> Marginal Likelihood:</u>  $ P(X)= \\frac{\\text{Number of observations deemed to be 'similar' to our new data point}}{\\text{Total Number of Observations(12,330)}}  $"
   ]
  },
  {
   "cell_type": "markdown",
   "metadata": {},
   "source": [
    "<u> Likelihood:</u>  $ P(X | True)= \\frac{\\text{Number of observations deemed to be 'similar' to our  observation (only among POSITIVE CLASS points)}}{\\text{Total Number of Observations(12,330)}} $"
   ]
  },
  {
   "cell_type": "markdown",
   "metadata": {},
   "source": [
    "<u> Posterior probability:</u> $P(True | X)= \\frac{\\text{  P(X|True)* P(True) }}{\\text{ P(X)}} $"
   ]
  },
  {
   "cell_type": "markdown",
   "metadata": {},
   "source": [
    "Referring to the definitions above, we can see that our prime target is the **Posterior Probability**.\n",
    "For an unseen data point, the model computes the Posterior probability above, and compares it to it's **complement** which is:"
   ]
  },
  {
   "cell_type": "markdown",
   "metadata": {},
   "source": [
    "\n",
    "\n",
    "\n",
    "\n",
    "$$P(False | X)= \\frac{\\text{  P(X|False)* P(False) }}{\\text{ P(X)}} $$"
   ]
  },
  {
   "cell_type": "markdown",
   "metadata": {},
   "source": [
    "Of course, there are some other computational details that have been overlooked in the simple explanation of the algorithm above. One key component is dealing with **Zero probabilities**, which are dealt with by the sklearn library model (it applies a technique called **Laplace Smoothing** during the training process of the classifier object).\n",
    "\n",
    "So, let's go ahead and train our **Gaussian** (assumes that continuous feature variables follow a Normal distribution) Naive Bayes classifier."
   ]
  },
  {
   "cell_type": "code",
   "execution_count": 393,
   "metadata": {
    "collapsed": true
   },
   "outputs": [],
   "source": [
    "from sklearn.naive_bayes import GaussianNB\n",
    "\n",
    "gnb = GaussianNB()   #Create the classifier object"
   ]
  },
  {
   "cell_type": "markdown",
   "metadata": {},
   "source": [
    "Recall from the previous section that we've already standardized the data. We can thus **fit** the classifier to our training sets."
   ]
  },
  {
   "cell_type": "code",
   "execution_count": 394,
   "metadata": {
    "collapsed": false
   },
   "outputs": [
    {
     "data": {
      "text/plain": [
       "GaussianNB(priors=None, var_smoothing=1e-09)"
      ]
     },
     "execution_count": 394,
     "metadata": {},
     "output_type": "execute_result"
    }
   ],
   "source": [
    "gnb.fit(X_train, y_train)"
   ]
  },
  {
   "cell_type": "markdown",
   "metadata": {},
   "source": [
    "And now, the moment we've been building towards since the very first line of this notebook:"
   ]
  },
  {
   "cell_type": "code",
   "execution_count": 395,
   "metadata": {
    "collapsed": true
   },
   "outputs": [],
   "source": [
    "y_pred = gnb.predict(X_test)"
   ]
  },
  {
   "cell_type": "markdown",
   "metadata": {},
   "source": [
    "Tada! We have a vector of **predicted results** that our own model has inferred from unseen data.\n",
    "But, is it actually worth anything?"
   ]
  },
  {
   "cell_type": "markdown",
   "metadata": {
    "collapsed": true
   },
   "source": [
    "### Confusion Matrix"
   ]
  },
  {
   "cell_type": "markdown",
   "metadata": {
    "collapsed": true
   },
   "source": [
    "In a binary classification problem such as ours, the Bayesian model labels each of the observations in our **X_test** dataset as either a **Positive class**(True) or **Negative class**(False).\n",
    "\n",
    "As such, since we have a **y_test** vector of class labels, we can use it as a measurement of the performance of our classifier. But it isn't exactly a simple \"<i>yes, our model correctly predicted that the customer would have ended his session with a transaction!\"</i>  kind of scenario.\n",
    "\n",
    "There are **four possible outcomes**:\n",
    "<ul>\n",
    "  <li>True Positive(**TP**)</li>\n",
    "  <li>False Positive(**FP**)</li>\n",
    "  <li>True Negative(**TN**)</li>\n",
    "  <li>False Negative(**FN**)</li>\n",
    "</ul>\n",
    "\n"
   ]
  },
  {
   "cell_type": "markdown",
   "metadata": {},
   "source": [
    "Let's logically explain each case."
   ]
  },
  {
   "cell_type": "markdown",
   "metadata": {},
   "source": [
    "**True Positives** are those observations which were correctly classified as the **Positive class**(ie. the classifier correctly assigned them as being likely to end their browsing session with a purchase). The **converse** holds true for **True Negatives**(correctly identified non-buyers)."
   ]
  },
  {
   "cell_type": "markdown",
   "metadata": {},
   "source": [
    "The interesting cases are **False Negatives and Positives**. False Negatives are the customers who were mistakenly classified as **not** ending their visit to the website with a purchase, whereas in reality they actually made a purchase. Similarly, the **False Positives** are those who actually didn't complete a transaction, but were assigned as the Positive class."
   ]
  },
  {
   "cell_type": "markdown",
   "metadata": {},
   "source": [
    "Two useful evaluation metrics can be computed from these measures, namely:"
   ]
  },
  {
   "cell_type": "markdown",
   "metadata": {},
   "source": [
    "**Error Rate(ERR)**- $\\frac{\\text{FP + FN}}{\\text{P+N}} $     \n",
    "\n",
    "<i>(Best ERR~0.0)</i>"
   ]
  },
  {
   "cell_type": "markdown",
   "metadata": {},
   "source": [
    "**Accuracy(ACC)**- $\\frac{\\text{TP+TN}}{\\text{P+N}} $\n",
    "\n",
    "<i>(Best ACC~1.0)</i>"
   ]
  },
  {
   "cell_type": "markdown",
   "metadata": {},
   "source": [
    "Obviously, they are **complements** of one another, so computing one and subtracting the other one from 1 would suffice."
   ]
  },
  {
   "cell_type": "markdown",
   "metadata": {},
   "source": [
    "Utilizing sklearn, we can check out a matrix which encapsulates all of these base measures and then evaluate our classifier's performance(spoiler alert, it won't be pretty)"
   ]
  },
  {
   "cell_type": "code",
   "execution_count": 396,
   "metadata": {
    "collapsed": false
   },
   "outputs": [
    {
     "name": "stdout",
     "output_type": "stream",
     "text": [
      "[[1383  661]\n",
      " [  80  342]]\n"
     ]
    }
   ],
   "source": [
    "from sklearn.metrics import confusion_matrix\n",
    "\n",
    "print(confusion_matrix(y_test, y_pred))  "
   ]
  },
  {
   "cell_type": "code",
   "execution_count": 397,
   "metadata": {
    "collapsed": true
   },
   "outputs": [],
   "source": [
    "cm=confusion_matrix(y_test, y_pred)\n",
    "\n",
    "TP = cm[0][0]    #True Positives\n",
    "FN = cm[0][1]    #False Negatives\n",
    "FP = cm[1][0]    #False Positives\n",
    "TN = cm[1][1]     #True Negative\n",
    "total_preds = np.sum(cm)\n",
    "\n",
    "error_rate = (FP+FN)/total_preds\n",
    "accu = (TP+TN)/total_preds"
   ]
  },
  {
   "cell_type": "markdown",
   "metadata": {},
   "source": [
    "So, how **accurate** was our Bayesian classifier?"
   ]
  },
  {
   "cell_type": "code",
   "execution_count": 398,
   "metadata": {
    "collapsed": false
   },
   "outputs": [
    {
     "data": {
      "text/plain": [
       "0.6995133819951338"
      ]
     },
     "execution_count": 398,
     "metadata": {},
     "output_type": "execute_result"
    }
   ],
   "source": [
    "accu"
   ]
  },
  {
   "cell_type": "markdown",
   "metadata": {},
   "source": [
    "**Almost 70% accuracy** for a model which analyzed **37 features**. It's time that we think about improving this model. In order to reduce the number of features of the data that we're feeding our model, we should pass in only the **most significant** features.How do we find out which ones we actually need?\n",
    "To do so,we will now turn to one of the most powerful methods of **Dimensionality Reduction: PCA**."
   ]
  },
  {
   "cell_type": "markdown",
   "metadata": {},
   "source": [
    "# <div id=\"sec 3\">Section 3: Dimensionality Reduction and better models</div>"
   ]
  },
  {
   "cell_type": "markdown",
   "metadata": {},
   "source": [
    "\n",
    "\n"
   ]
  },
  {
   "cell_type": "markdown",
   "metadata": {},
   "source": [
    "## <div id=\"3.1\">3.1: Principal Component Analysis</div>"
   ]
  },
  {
   "cell_type": "markdown",
   "metadata": {
    "collapsed": true
   },
   "source": [
    "Instead of deep diving into the inner workings of the **PCA Algorithm**, I would like to highlight the basic concept of it before applying it on our dataset. Readers who are interested in learning more about it should definitely check out this post on <a href=\"https://www.analyticsvidhya.com/blog/2016/03/practical-guide-principal-component-analysis-python/\">Analytics Vidhya</a> which certainly helped me grasp the logic behind this neat topic.\n",
    "\n",
    "In the simplest possible definition: Principal Component Analysis allows us to take a high-dimensional dataset and reduce it to a lower dimension, without **losing significant information**.\n",
    "\n",
    "How about a very watered-down example? On a movie set, cameras capture the scenes being shot(**real people moving and breathing in 3-Dimensions**) and allow us to eventually watch the film on the big screen(**a 2D projector of some sort**). Do we really lose any significant information in this process? Not that we care about! (credit goes to <a href=\"https://www.youtube.com/watch?v=_UVHneBUBW0\">StatQuest</a> for the amazing explanation)"
   ]
  },
  {
   "cell_type": "markdown",
   "metadata": {},
   "source": [
    "So, let's work through this process. Let's call our initial full DataFrame before we reduce it down to lower dimensions:"
   ]
  },
  {
   "cell_type": "code",
   "execution_count": 399,
   "metadata": {
    "collapsed": true
   },
   "outputs": [],
   "source": [
    "X = df.iloc[:,df.columns != 'Revenue'].values\n",
    "y =df.iloc[:,df.columns == 'Revenue'].values\n",
    "\n",
    "X_train, X_test, y_train, y_test = train_test_split(X, y, test_size = 0.20, random_state = 0)\n",
    "\n",
    "#Scale(Standardize)\n",
    "sc = StandardScaler()\n",
    "X_train = sc.fit_transform(X_train)\n",
    "X_test = sc.transform(X_test)"
   ]
  },
  {
   "cell_type": "markdown",
   "metadata": {},
   "source": [
    "Import **PCA** from the sklearn library:"
   ]
  },
  {
   "cell_type": "code",
   "execution_count": 400,
   "metadata": {
    "collapsed": true
   },
   "outputs": [],
   "source": [
    "from sklearn.decomposition import PCA"
   ]
  },
  {
   "cell_type": "markdown",
   "metadata": {},
   "source": [
    "No, let's initialize our **PCA object** and apply it on our **Feature matrices**. Note that we will not specify how many features we're looking to reduce the dataset down to, as we will deal with that in a bit."
   ]
  },
  {
   "cell_type": "code",
   "execution_count": 401,
   "metadata": {
    "collapsed": true
   },
   "outputs": [],
   "source": [
    "pca = PCA(n_components=None)\n",
    "X_train = pca.fit_transform(X_train)\n",
    "X_test = pca.transform(X_test)"
   ]
  },
  {
   "cell_type": "markdown",
   "metadata": {},
   "source": [
    "Let's check out the vector which contains the **Variance-ratio** corresponding to each feature. This array of **variance ratios** is sorted from the **feature with highest variance** to the one with **least variance**."
   ]
  },
  {
   "cell_type": "code",
   "execution_count": 402,
   "metadata": {
    "collapsed": false
   },
   "outputs": [
    {
     "data": {
      "text/plain": [
       "array([ 0.09475601,  0.05621903,  0.04972727,  0.04537941,  0.04165344,\n",
       "        0.03610457,  0.03269759,  0.03126463,  0.03067678,  0.03015461,\n",
       "        0.03002815,  0.02938747,  0.02925042,  0.02890536,  0.02823208,\n",
       "        0.02804116,  0.02783636,  0.02769944,  0.0271654 ,  0.02682014,\n",
       "        0.02670189,  0.02666183,  0.02576801,  0.02517921,  0.02491166,\n",
       "        0.02309332,  0.02290786,  0.02012234,  0.01507083,  0.01160195,\n",
       "        0.01145872,  0.01007551,  0.00920951,  0.00877662,  0.00330997,\n",
       "        0.00199213,  0.0011593 ])"
      ]
     },
     "execution_count": 402,
     "metadata": {},
     "output_type": "execute_result"
    }
   ],
   "source": [
    "explained_variance = pca.explained_variance_ratio_\n",
    "explained_variance       #Sorted Greatest-->Smallest"
   ]
  },
  {
   "cell_type": "markdown",
   "metadata": {},
   "source": [
    "How many **key **features(in total) account for **70%** of the total variance? "
   ]
  },
  {
   "cell_type": "code",
   "execution_count": 403,
   "metadata": {
    "collapsed": false
   },
   "outputs": [
    {
     "data": {
      "text/plain": [
       "(11,)"
      ]
     },
     "execution_count": 403,
     "metadata": {},
     "output_type": "execute_result"
    }
   ],
   "source": [
    "explained_variance[explained_variance>np.percentile(explained_variance,70)].shape"
   ]
  },
  {
   "cell_type": "markdown",
   "metadata": {},
   "source": [
    "As we can see, we can reduce our dimensions from **37 explanatory variables** down to **11 key features** which account for the most variance in the data.\n",
    "\n",
    "So, let's do this one last time."
   ]
  },
  {
   "cell_type": "code",
   "execution_count": 404,
   "metadata": {
    "collapsed": true
   },
   "outputs": [],
   "source": [
    "X = df.iloc[:,df.columns != 'Revenue'].values\n",
    "y =df.iloc[:,df.columns == 'Revenue'].values\n",
    "\n",
    "#re-split\n",
    "X_train, X_test, y_train, y_test = train_test_split(X, y, test_size = 0.20, random_state = 0)\n",
    "\n",
    "\n",
    "#Scale(Standardize)\n",
    "sc = StandardScaler()\n",
    "X_train = sc.fit_transform(X_train)\n",
    "X_test = sc.transform(X_test)\n",
    "\n",
    "\n",
    "#reapply PCA\n",
    "pca= PCA(n_components=11)\n",
    "X_train = pca.fit_transform(X_train)\n",
    "X_test = pca.transform(X_test)"
   ]
  },
  {
   "cell_type": "markdown",
   "metadata": {},
   "source": [
    "Let's take a sneak peek at our Matrix now:"
   ]
  },
  {
   "cell_type": "code",
   "execution_count": 405,
   "metadata": {
    "collapsed": false
   },
   "outputs": [
    {
     "data": {
      "text/plain": [
       "(9864, 11)"
      ]
     },
     "execution_count": 405,
     "metadata": {},
     "output_type": "execute_result"
    }
   ],
   "source": [
    "X_train.shape"
   ]
  },
  {
   "cell_type": "code",
   "execution_count": 406,
   "metadata": {
    "collapsed": false
   },
   "outputs": [
    {
     "data": {
      "text/plain": [
       "array([[-0.67369994, -0.41377017, -1.59808176, ...,  0.28789717,\n",
       "         0.56563199, -0.07493448],\n",
       "       [ 3.1636398 ,  0.08807422,  0.65046203, ..., -0.84718621,\n",
       "         0.01590689, -0.32200845],\n",
       "       [ 5.17970595, -0.83865464,  1.54414103, ...,  0.6784403 ,\n",
       "        -4.59072455, -0.41324397],\n",
       "       ..., \n",
       "       [ 6.74807095, -1.12933725,  1.68531871, ...,  0.63577802,\n",
       "         0.62927269,  0.48028339],\n",
       "       [-0.45365647,  0.2308201 ,  0.33007797, ..., -0.2863945 ,\n",
       "         0.68016899, -0.20365681],\n",
       "       [ 0.10660604, -0.63307332, -1.16889317, ...,  0.57580462,\n",
       "         0.42769723, -0.24372825]])"
      ]
     },
     "execution_count": 406,
     "metadata": {},
     "output_type": "execute_result"
    }
   ],
   "source": [
    "X_train"
   ]
  },
  {
   "cell_type": "markdown",
   "metadata": {},
   "source": [
    "The values are all **standardized**, so it's not possible to interpret them as in the current state. However, we are now ready to apply the **Gaussian Naive Bayes** classifier once more."
   ]
  },
  {
   "cell_type": "markdown",
   "metadata": {},
   "source": [
    "## <div id=\"3.2\">3.2: Naive Bayes revisited</div>\n"
   ]
  },
  {
   "cell_type": "markdown",
   "metadata": {
    "collapsed": true
   },
   "source": [
    "Let's create a classifier object once more, and fit it to our **reduced** matrix of features. As before, we can then proceed to evaluate the resulting **Confusion Matrix**."
   ]
  },
  {
   "cell_type": "code",
   "execution_count": 407,
   "metadata": {
    "collapsed": true
   },
   "outputs": [],
   "source": [
    "gnb = GaussianNB()\n",
    "gnb.fit(X_train, y_train)\n",
    "y_pred = gnb.predict(X_test)"
   ]
  },
  {
   "cell_type": "code",
   "execution_count": 408,
   "metadata": {
    "collapsed": false
   },
   "outputs": [
    {
     "data": {
      "text/plain": [
       "array([[2010,   34],\n",
       "       [ 387,   35]], dtype=int64)"
      ]
     },
     "execution_count": 408,
     "metadata": {},
     "output_type": "execute_result"
    }
   ],
   "source": [
    "cm =  confusion_matrix(y_test, y_pred)\n",
    "cm"
   ]
  },
  {
   "cell_type": "code",
   "execution_count": 409,
   "metadata": {
    "collapsed": true
   },
   "outputs": [],
   "source": [
    "TP = cm[0][0]    #True Positives\n",
    "FN = cm[0][1]    #False Negatives\n",
    "FP = cm[1][0]    #False Positives\n",
    "TN = cm[1][1]     #True Negative\n",
    "\n",
    "total_preds = np.sum(cm)\n",
    "\n",
    "error_rate = (FP+FN)/total_preds\n",
    "\n",
    "accu = (TP+TN)/total_preds"
   ]
  },
  {
   "cell_type": "markdown",
   "metadata": {},
   "source": [
    "Moment of truth...how did we do?"
   ]
  },
  {
   "cell_type": "code",
   "execution_count": 410,
   "metadata": {
    "collapsed": false
   },
   "outputs": [
    {
     "data": {
      "text/plain": [
       "0.8292781832927818"
      ]
     },
     "execution_count": 410,
     "metadata": {},
     "output_type": "execute_result"
    }
   ],
   "source": [
    "accu"
   ]
  },
  {
   "cell_type": "markdown",
   "metadata": {},
   "source": [
    "Not bad at all, we went from a model which was aproximately **70%** accurate, to one which now stands at an accuracy of nearly **83%**. Now that we've seen a Naive Bayes classifier have a run at making a prediction, let's call in another <i> star player</i>: an **Artificial Neural Network**."
   ]
  },
  {
   "cell_type": "markdown",
   "metadata": {},
   "source": [
    "## <div id=\"3.3\">3.3: Building an Artificial Neural Network</div>"
   ]
  },
  {
   "cell_type": "markdown",
   "metadata": {
    "collapsed": true
   },
   "source": [
    "We will design the architecture of the Neural network in this section. But, let's start off by importing the **Keras library**. We will run this on the **TensorFlow** backend in order to create our **ANN classifier**."
   ]
  },
  {
   "cell_type": "code",
   "execution_count": 411,
   "metadata": {
    "collapsed": false
   },
   "outputs": [],
   "source": [
    "import keras"
   ]
  },
  {
   "cell_type": "markdown",
   "metadata": {},
   "source": [
    "We will need two other modules in order to design the structure of the model. By using the **Sequential** module from keras, we will initialize the network, and then gradually add layers one by one using the **Dense** module."
   ]
  },
  {
   "cell_type": "code",
   "execution_count": 412,
   "metadata": {
    "collapsed": true
   },
   "outputs": [],
   "source": [
    "from keras.models import Sequential\n",
    "from keras.layers import Dense"
   ]
  },
  {
   "cell_type": "markdown",
   "metadata": {},
   "source": [
    "Let's initialize our (future) classifier."
   ]
  },
  {
   "cell_type": "code",
   "execution_count": 413,
   "metadata": {
    "collapsed": true
   },
   "outputs": [],
   "source": [
    "classifier = Sequential()"
   ]
  },
  {
   "cell_type": "markdown",
   "metadata": {},
   "source": [
    "It's time to add the input layer. In this problem, we are dealing with **11 explanatory features** that account for the most variance in the data. As such, the ANN we are designing will contain <i>exactly ONE</i> input layer with **11 nodes**.\n",
    "\n",
    "The next question we can ask is about the **Output layer**. How many nodes should we have there? Since the result is simply a Binary outcome(True or False), we will have **1 node** in the Output layer. The nature of our problem is probabilistic in nature(ie. we may ask **how likely** is it that a website visitor will buy something?). It is important to note at this point that the **Activation function** that will model our final response will be a <i>**Sigmoid Function**</i> (which returns an output between 0 and 1, akin to a probability).\n",
    "\n",
    "What about the hidden layers? For the purpose of this basic analysis, we will be adding only **two hidden layers** and they will contain a number of nodes equal to average of the input and output layers (so (11+1)/2),ie. **6 nodes**(each). "
   ]
  },
  {
   "cell_type": "markdown",
   "metadata": {},
   "source": [
    "So, let's design the input layer and the **first** hidden layer as follows:"
   ]
  },
  {
   "cell_type": "code",
   "execution_count": 414,
   "metadata": {
    "collapsed": true
   },
   "outputs": [],
   "source": [
    "classifier.add(Dense(output_dim=6, init='uniform', activation='relu',input_dim=11))"
   ]
  },
  {
   "cell_type": "markdown",
   "metadata": {},
   "source": [
    "Let's quickly mention those two parameters **init** and **activation**.\n",
    "\n",
    "Without going into a detailed explanation of the inner workings of the Artificial Neural Network (a very neat explanation can be found <a href=\"https://stevenmiller888.github.io/mind-how-to-build-a-neural-network/\">here</a>), we need to know that in order to perform **Stochastic Gradient Descent**(SGD) to find out the optimal relevance of each of our features, we need to initialize the **weight** of each feature with a small factor (close to 0). Through repeated runs of this SGD, these weights are then readjusted. So, to get started, we utilize the **Uniform distribution** for this purpose.\n",
    "\n",
    "We also need to specify an **Activation function** for the hidden layer, and the **Rectifier Function** (relu) will do just fine for this purpose."
   ]
  },
  {
   "cell_type": "markdown",
   "metadata": {},
   "source": [
    "Let's add our **second Hidden layer** before finishing up with our Output layer."
   ]
  },
  {
   "cell_type": "code",
   "execution_count": 415,
   "metadata": {
    "collapsed": true
   },
   "outputs": [],
   "source": [
    "classifier.add(Dense(output_dim=6, init='uniform', activation='relu'))"
   ]
  },
  {
   "cell_type": "markdown",
   "metadata": {},
   "source": [
    "Let's move on and add the **Output layer** which will give us our desired Dependent variable."
   ]
  },
  {
   "cell_type": "code",
   "execution_count": 416,
   "metadata": {
    "collapsed": true
   },
   "outputs": [],
   "source": [
    "classifier.add(Dense(output_dim=1, init='uniform', activation='sigmoid'))"
   ]
  },
  {
   "cell_type": "markdown",
   "metadata": {
    "collapsed": true
   },
   "source": [
    "Before we compile our Neural Network, let's specify some of the optimization parameters that we will be using. \n",
    "In order for our initial weights to be updated via the Stochastic Gradient Descent algorithm, we will be utilizing the **adam** optimizer. But, what loss function are we really optimizing our results against? We will be using a **Logarithmic loss function**(with two Dependent variable classes ,hence\n",
    "'binary_crossentropy')."
   ]
  },
  {
   "cell_type": "code",
   "execution_count": 417,
   "metadata": {
    "collapsed": true
   },
   "outputs": [],
   "source": [
    "classifier.compile(optimizer='adam',loss='binary_crossentropy',\n",
    "                  metrics=['accuracy'])"
   ]
  },
  {
   "cell_type": "markdown",
   "metadata": {},
   "source": [
    "The design of our ANN is complete and it's time for the real action: Fitting our Neural Network to the **Training set**."
   ]
  },
  {
   "cell_type": "code",
   "execution_count": 418,
   "metadata": {
    "collapsed": false
   },
   "outputs": [
    {
     "name": "stdout",
     "output_type": "stream",
     "text": [
      "Epoch 1/100\n",
      "9864/9864 [==============================] - 2s 170us/step - loss: 0.4202 - acc: 0.8483\n",
      "Epoch 2/100\n",
      "9864/9864 [==============================] - 1s 123us/step - loss: 0.3536 - acc: 0.8494\n",
      "Epoch 3/100\n",
      "9864/9864 [==============================] - 1s 129us/step - loss: 0.3508 - acc: 0.8494\n",
      "Epoch 4/100\n",
      "9864/9864 [==============================] - 1s 137us/step - loss: 0.3490 - acc: 0.8494\n",
      "Epoch 5/100\n",
      "9864/9864 [==============================] - 1s 129us/step - loss: 0.3475 - acc: 0.8494\n",
      "Epoch 6/100\n",
      "9864/9864 [==============================] - 1s 125us/step - loss: 0.3467 - acc: 0.8494\n",
      "Epoch 7/100\n",
      "9864/9864 [==============================] - 1s 123us/step - loss: 0.3459 - acc: 0.8494\n",
      "Epoch 8/100\n",
      "9864/9864 [==============================] - 1s 123us/step - loss: 0.3449 - acc: 0.8491\n",
      "Epoch 9/100\n",
      "9864/9864 [==============================] - 1s 122us/step - loss: 0.3448 - acc: 0.8525\n",
      "Epoch 10/100\n",
      "9864/9864 [==============================] - 1s 123us/step - loss: 0.3441 - acc: 0.8551\n",
      "Epoch 11/100\n",
      "9864/9864 [==============================] - 1s 123us/step - loss: 0.3438 - acc: 0.8557\n",
      "Epoch 12/100\n",
      "9864/9864 [==============================] - 1s 124us/step - loss: 0.3434 - acc: 0.8553\n",
      "Epoch 13/100\n",
      "9864/9864 [==============================] - 1s 123us/step - loss: 0.3433 - acc: 0.8543\n",
      "Epoch 14/100\n",
      "9864/9864 [==============================] - 1s 124us/step - loss: 0.3427 - acc: 0.8552\n",
      "Epoch 15/100\n",
      "9864/9864 [==============================] - 1s 123us/step - loss: 0.3426 - acc: 0.8558\n",
      "Epoch 16/100\n",
      "9864/9864 [==============================] - 1s 129us/step - loss: 0.3421 - acc: 0.8576\n",
      "Epoch 17/100\n",
      "9864/9864 [==============================] - 1s 135us/step - loss: 0.3419 - acc: 0.8579\n",
      "Epoch 18/100\n",
      "9864/9864 [==============================] - 1s 127us/step - loss: 0.3414 - acc: 0.8587\n",
      "Epoch 19/100\n",
      "9864/9864 [==============================] - 1s 125us/step - loss: 0.3414 - acc: 0.8581\n",
      "Epoch 20/100\n",
      "9864/9864 [==============================] - 1s 124us/step - loss: 0.3411 - acc: 0.8580\n",
      "Epoch 21/100\n",
      "9864/9864 [==============================] - 1s 125us/step - loss: 0.3408 - acc: 0.8583\n",
      "Epoch 22/100\n",
      "9864/9864 [==============================] - 1s 125us/step - loss: 0.3405 - acc: 0.8583\n",
      "Epoch 23/100\n",
      "9864/9864 [==============================] - 1s 127us/step - loss: 0.3406 - acc: 0.8604\n",
      "Epoch 24/100\n",
      "9864/9864 [==============================] - 1s 129us/step - loss: 0.3401 - acc: 0.8593\n",
      "Epoch 25/100\n",
      "9864/9864 [==============================] - 1s 129us/step - loss: 0.3406 - acc: 0.8592\n",
      "Epoch 26/100\n",
      "9864/9864 [==============================] - 1s 128us/step - loss: 0.3402 - acc: 0.8599\n",
      "Epoch 27/100\n",
      "9864/9864 [==============================] - 1s 131us/step - loss: 0.3395 - acc: 0.8590\n",
      "Epoch 28/100\n",
      "9864/9864 [==============================] - 1s 142us/step - loss: 0.3401 - acc: 0.8606\n",
      "Epoch 29/100\n",
      "9864/9864 [==============================] - 1s 148us/step - loss: 0.3393 - acc: 0.8592\n",
      "Epoch 30/100\n",
      "9864/9864 [==============================] - 1s 137us/step - loss: 0.3398 - acc: 0.8592\n",
      "Epoch 31/100\n",
      "9864/9864 [==============================] - 1s 127us/step - loss: 0.3391 - acc: 0.8595\n",
      "Epoch 32/100\n",
      "9864/9864 [==============================] - 1s 124us/step - loss: 0.3391 - acc: 0.8601\n",
      "Epoch 33/100\n",
      "9864/9864 [==============================] - 1s 124us/step - loss: 0.3392 - acc: 0.8595\n",
      "Epoch 34/100\n",
      "9864/9864 [==============================] - 1s 125us/step - loss: 0.3393 - acc: 0.8597\n",
      "Epoch 35/100\n",
      "9864/9864 [==============================] - 1s 124us/step - loss: 0.3392 - acc: 0.8613\n",
      "Epoch 36/100\n",
      "9864/9864 [==============================] - 1s 125us/step - loss: 0.3390 - acc: 0.8622\n",
      "Epoch 37/100\n",
      "9864/9864 [==============================] - 1s 125us/step - loss: 0.3388 - acc: 0.8607\n",
      "Epoch 38/100\n",
      "9864/9864 [==============================] - 1s 124us/step - loss: 0.3389 - acc: 0.8608\n",
      "Epoch 39/100\n",
      "9864/9864 [==============================] - 1s 125us/step - loss: 0.3391 - acc: 0.8614\n",
      "Epoch 40/100\n",
      "9864/9864 [==============================] - 1s 125us/step - loss: 0.3387 - acc: 0.8611\n",
      "Epoch 41/100\n",
      "9864/9864 [==============================] - 1s 130us/step - loss: 0.3388 - acc: 0.8617\n",
      "Epoch 42/100\n",
      "9864/9864 [==============================] - 1s 135us/step - loss: 0.3385 - acc: 0.8624\n",
      "Epoch 43/100\n",
      "9864/9864 [==============================] - 1s 131us/step - loss: 0.3388 - acc: 0.8622\n",
      "Epoch 44/100\n",
      "9864/9864 [==============================] - 1s 128us/step - loss: 0.3388 - acc: 0.8617\n",
      "Epoch 45/100\n",
      "9864/9864 [==============================] - 1s 125us/step - loss: 0.3382 - acc: 0.8623\n",
      "Epoch 46/100\n",
      "9864/9864 [==============================] - 1s 125us/step - loss: 0.3386 - acc: 0.8617\n",
      "Epoch 47/100\n",
      "9864/9864 [==============================] - 1s 125us/step - loss: 0.3381 - acc: 0.8610\n",
      "Epoch 48/100\n",
      "9864/9864 [==============================] - 1s 124us/step - loss: 0.3382 - acc: 0.8615\n",
      "Epoch 49/100\n",
      "9864/9864 [==============================] - 1s 126us/step - loss: 0.3378 - acc: 0.8614\n",
      "Epoch 50/100\n",
      "9864/9864 [==============================] - 1s 125us/step - loss: 0.3382 - acc: 0.8618\n",
      "Epoch 51/100\n",
      "9864/9864 [==============================] - 1s 125us/step - loss: 0.3383 - acc: 0.8622\n",
      "Epoch 52/100\n",
      "9864/9864 [==============================] - 1s 124us/step - loss: 0.3379 - acc: 0.8616\n",
      "Epoch 53/100\n",
      "9864/9864 [==============================] - 1s 125us/step - loss: 0.3378 - acc: 0.8614\n",
      "Epoch 54/100\n",
      "9864/9864 [==============================] - 1s 129us/step - loss: 0.3376 - acc: 0.8618\n",
      "Epoch 55/100\n",
      "9864/9864 [==============================] - 1s 135us/step - loss: 0.3381 - acc: 0.8623\n",
      "Epoch 56/100\n",
      "9864/9864 [==============================] - 1s 125us/step - loss: 0.3379 - acc: 0.8614\n",
      "Epoch 57/100\n",
      "9864/9864 [==============================] - 1s 130us/step - loss: 0.3378 - acc: 0.8623\n",
      "Epoch 58/100\n",
      "9864/9864 [==============================] - 1s 125us/step - loss: 0.3377 - acc: 0.8628\n",
      "Epoch 59/100\n",
      "9864/9864 [==============================] - 1s 125us/step - loss: 0.3376 - acc: 0.8621\n",
      "Epoch 60/100\n",
      "9864/9864 [==============================] - 1s 131us/step - loss: 0.3378 - acc: 0.8623\n",
      "Epoch 61/100\n",
      "9864/9864 [==============================] - 2s 166us/step - loss: 0.3377 - acc: 0.8624\n",
      "Epoch 62/100\n",
      "9864/9864 [==============================] - 1s 147us/step - loss: 0.3374 - acc: 0.8638\n",
      "Epoch 63/100\n",
      "9864/9864 [==============================] - 1s 139us/step - loss: 0.3375 - acc: 0.8623\n",
      "Epoch 64/100\n",
      "9864/9864 [==============================] - 2s 162us/step - loss: 0.3375 - acc: 0.8630\n",
      "Epoch 65/100\n",
      "9864/9864 [==============================] - 1s 134us/step - loss: 0.3374 - acc: 0.8632\n",
      "Epoch 66/100\n",
      "9864/9864 [==============================] - 1s 130us/step - loss: 0.3374 - acc: 0.8623\n",
      "Epoch 67/100\n",
      "9864/9864 [==============================] - 1s 137us/step - loss: 0.3372 - acc: 0.8622\n",
      "Epoch 68/100\n",
      "9864/9864 [==============================] - 1s 135us/step - loss: 0.3370 - acc: 0.8633\n",
      "Epoch 69/100\n",
      "9864/9864 [==============================] - 1s 141us/step - loss: 0.3373 - acc: 0.8639\n",
      "Epoch 70/100\n",
      "9864/9864 [==============================] - 1s 125us/step - loss: 0.3375 - acc: 0.8625\n",
      "Epoch 71/100\n",
      "9864/9864 [==============================] - 1s 131us/step - loss: 0.3373 - acc: 0.8627\n",
      "Epoch 72/100\n",
      "9864/9864 [==============================] - 1s 125us/step - loss: 0.3373 - acc: 0.8629\n",
      "Epoch 73/100\n",
      "9864/9864 [==============================] - 1s 120us/step - loss: 0.3373 - acc: 0.8632\n",
      "Epoch 74/100\n",
      "9864/9864 [==============================] - 1s 127us/step - loss: 0.3373 - acc: 0.8630\n",
      "Epoch 75/100\n",
      "9864/9864 [==============================] - 1s 122us/step - loss: 0.3375 - acc: 0.8653\n",
      "Epoch 76/100\n",
      "9864/9864 [==============================] - 1s 123us/step - loss: 0.3373 - acc: 0.8629\n",
      "Epoch 77/100\n",
      "9864/9864 [==============================] - 1s 119us/step - loss: 0.3372 - acc: 0.8618\n",
      "Epoch 78/100\n",
      "9864/9864 [==============================] - 1s 118us/step - loss: 0.3373 - acc: 0.8623\n",
      "Epoch 79/100\n",
      "9864/9864 [==============================] - 1s 140us/step - loss: 0.3368 - acc: 0.8637\n",
      "Epoch 80/100\n",
      "9864/9864 [==============================] - 1s 128us/step - loss: 0.3370 - acc: 0.8638\n",
      "Epoch 81/100\n",
      "9864/9864 [==============================] - 1s 135us/step - loss: 0.3374 - acc: 0.8632\n",
      "Epoch 82/100\n",
      "9864/9864 [==============================] - 1s 134us/step - loss: 0.3370 - acc: 0.8644\n",
      "Epoch 83/100\n",
      "9864/9864 [==============================] - 1s 140us/step - loss: 0.3369 - acc: 0.8627\n",
      "Epoch 84/100\n",
      "9864/9864 [==============================] - 1s 132us/step - loss: 0.3370 - acc: 0.8623\n",
      "Epoch 85/100\n",
      "9864/9864 [==============================] - 1s 146us/step - loss: 0.3369 - acc: 0.8630\n",
      "Epoch 86/100\n",
      "9864/9864 [==============================] - 1s 128us/step - loss: 0.3371 - acc: 0.8627\n",
      "Epoch 87/100\n",
      "9864/9864 [==============================] - 1s 123us/step - loss: 0.3367 - acc: 0.8641\n",
      "Epoch 88/100\n",
      "9864/9864 [==============================] - 1s 124us/step - loss: 0.3369 - acc: 0.8629\n",
      "Epoch 89/100\n",
      "9864/9864 [==============================] - 1s 124us/step - loss: 0.3370 - acc: 0.8638\n",
      "Epoch 90/100\n",
      "9864/9864 [==============================] - 1s 127us/step - loss: 0.3368 - acc: 0.8638\n",
      "Epoch 91/100\n",
      "9864/9864 [==============================] - 1s 152us/step - loss: 0.3369 - acc: 0.8634\n",
      "Epoch 92/100\n",
      "9864/9864 [==============================] - 2s 180us/step - loss: 0.3368 - acc: 0.8630\n",
      "Epoch 93/100\n",
      "9864/9864 [==============================] - 2s 184us/step - loss: 0.3368 - acc: 0.8645\n",
      "Epoch 94/100\n",
      "9864/9864 [==============================] - 1s 150us/step - loss: 0.3371 - acc: 0.8634\n",
      "Epoch 95/100\n",
      "9864/9864 [==============================] - 2s 154us/step - loss: 0.3372 - acc: 0.8623\n",
      "Epoch 96/100\n",
      "9864/9864 [==============================] - 1s 140us/step - loss: 0.3368 - acc: 0.8636\n",
      "Epoch 97/100\n",
      "9864/9864 [==============================] - 1s 146us/step - loss: 0.3367 - acc: 0.8649\n",
      "Epoch 98/100\n",
      "9864/9864 [==============================] - 1s 131us/step - loss: 0.3367 - acc: 0.8628\n",
      "Epoch 99/100\n",
      "9864/9864 [==============================] - 1s 123us/step - loss: 0.3369 - acc: 0.8627\n",
      "Epoch 100/100\n",
      "9864/9864 [==============================] - 1s 123us/step - loss: 0.3369 - acc: 0.8637\n"
     ]
    },
    {
     "data": {
      "text/plain": [
       "<keras.callbacks.History at 0x187dcca2048>"
      ]
     },
     "execution_count": 418,
     "metadata": {},
     "output_type": "execute_result"
    }
   ],
   "source": [
    "classifier.fit(X_train,y_train, batch_size=10 , nb_epoch=100)"
   ]
  },
  {
   "cell_type": "markdown",
   "metadata": {},
   "source": [
    "Now that we have **trained** our ANN on the appropriate set, let's compute a **vector of predictions** as in the Naive Bayes section and then inspect the **Confusion Matrix**."
   ]
  },
  {
   "cell_type": "code",
   "execution_count": 419,
   "metadata": {
    "collapsed": true
   },
   "outputs": [],
   "source": [
    "y_pred = classifier.predict(X_test)"
   ]
  },
  {
   "cell_type": "code",
   "execution_count": 420,
   "metadata": {
    "collapsed": false
   },
   "outputs": [
    {
     "data": {
      "text/plain": [
       "array([[ 0.20799184],\n",
       "       [ 0.11997182],\n",
       "       [ 0.14411509],\n",
       "       ..., \n",
       "       [ 0.46368095],\n",
       "       [ 0.31928867],\n",
       "       [ 0.65594244]], dtype=float32)"
      ]
     },
     "execution_count": 420,
     "metadata": {},
     "output_type": "execute_result"
    }
   ],
   "source": [
    "y_pred"
   ]
  },
  {
   "cell_type": "markdown",
   "metadata": {},
   "source": [
    "As we expected, for each given customer in our **Test dataset**, we have an associated probability for whether or not they will end their visit to the store with a transaction. Let's convert this to an appropriate vector of Binary values(**True if the probability is greater than 0.5, false otherwise**)."
   ]
  },
  {
   "cell_type": "code",
   "execution_count": 421,
   "metadata": {
    "collapsed": false
   },
   "outputs": [
    {
     "data": {
      "text/plain": [
       "array([[False],\n",
       "       [False],\n",
       "       [False],\n",
       "       ..., \n",
       "       [False],\n",
       "       [False],\n",
       "       [ True]], dtype=bool)"
      ]
     },
     "execution_count": 421,
     "metadata": {},
     "output_type": "execute_result"
    }
   ],
   "source": [
    "y_pred = y_pred>0.5\n",
    "y_pred"
   ]
  },
  {
   "cell_type": "markdown",
   "metadata": {},
   "source": [
    "Let's generate the confusion matrix and quickly inspect the relevant metrics."
   ]
  },
  {
   "cell_type": "code",
   "execution_count": 422,
   "metadata": {
    "collapsed": false
   },
   "outputs": [
    {
     "data": {
      "text/plain": [
       "array([[2019,   25],\n",
       "       [ 358,   64]], dtype=int64)"
      ]
     },
     "execution_count": 422,
     "metadata": {},
     "output_type": "execute_result"
    }
   ],
   "source": [
    "cm =  confusion_matrix(y_test, y_pred)\n",
    "cm"
   ]
  },
  {
   "cell_type": "code",
   "execution_count": 423,
   "metadata": {
    "collapsed": true
   },
   "outputs": [],
   "source": [
    "TP = cm[0][0]    #True Positives\n",
    "FN = cm[0][1]    #False Negatives\n",
    "FP = cm[1][0]    #False Positives\n",
    "TN = cm[1][1]     #True Negative\n",
    "\n",
    "total_preds = np.sum(cm)\n",
    "\n",
    "error_rate = (FP+FN)/total_preds\n",
    "\n",
    "accu = (TP+TN)/total_preds"
   ]
  },
  {
   "cell_type": "code",
   "execution_count": 424,
   "metadata": {
    "collapsed": false
   },
   "outputs": [
    {
     "data": {
      "text/plain": [
       "0.84468775344687752"
      ]
     },
     "execution_count": 424,
     "metadata": {},
     "output_type": "execute_result"
    }
   ],
   "source": [
    "accu"
   ]
  },
  {
   "cell_type": "markdown",
   "metadata": {},
   "source": [
    "Not bad at all! On our first try with our **simple** Artificial Neural Network, we have achieved an accuracy of around **84%**. This is comparable to our **Naive Bayes classifier**(~83% accuracy) and really demonstrates how useful our Principal Component Analysis section was."
   ]
  },
  {
   "cell_type": "markdown",
   "metadata": {},
   "source": [
    "# <div id=\"sec 4\">Section 4: Conclusion</div>"
   ]
  },
  {
   "cell_type": "markdown",
   "metadata": {},
   "source": [
    "## <div id=\"4.1\">4.1: Evaluating results</div>\n"
   ]
  },
  {
   "cell_type": "markdown",
   "metadata": {
    "collapsed": true
   },
   "source": [
    "Let's look back at what we covered here in this notebook:\n",
    "\n",
    "<ul>\n",
    "  <li>Carried out Exploratory Data Analysis</li>\n",
    "  <li>Implemented a Naive Bayes Classifier and an Artificial Neural Network</li>\n",
    "  <li>Obtained accuracies of approximately **83%** and **84%** respectively</li>\n",
    "</ul>\n",
    "\n",
    "\n"
   ]
  },
  {
   "cell_type": "markdown",
   "metadata": {},
   "source": [
    "So from a practical perspective, the e-commerce site can take analytical steps such as these ones in order to get an idea of how their site visitors behave and can crunch the numbers with predictive models such as these in order to find out whether a given person with particular browsing characteristics will actually purchase something or not. This will allow them to target potential customers and help them maximize returns in the long run."
   ]
  },
  {
   "cell_type": "markdown",
   "metadata": {},
   "source": [
    "## <div id=\"4.2\">4.2: Future improvements</div>"
   ]
  },
  {
   "cell_type": "markdown",
   "metadata": {
    "collapsed": true
   },
   "source": [
    "There are however, other **Supervised** models we could have leveraged in this problem. Future re-runs of this analysis can make use of **Support Vector Machine (SVM) classifier** or a **Decision Tree classifier** in hopes of obtaining comparable or **even better** results.\n",
    "\n",
    "As for now, this concludes the analysis of a very interesting dataset on web-browsing behaviour.\n",
    "\n",
    "Last but not least, thank you for reading!"
   ]
  }
 ],
 "metadata": {
  "anaconda-cloud": {},
  "kernelspec": {
   "display_name": "Python [conda env:Anaconda3]",
   "language": "python",
   "name": "conda-env-Anaconda3-py"
  },
  "language_info": {
   "codemirror_mode": {
    "name": "ipython",
    "version": 3
   },
   "file_extension": ".py",
   "mimetype": "text/x-python",
   "name": "python",
   "nbconvert_exporter": "python",
   "pygments_lexer": "ipython3",
   "version": "3.5.6"
  }
 },
 "nbformat": 4,
 "nbformat_minor": 2
}
